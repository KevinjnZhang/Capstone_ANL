{
 "cells": [
  {
   "cell_type": "code",
   "execution_count": 1,
   "id": "embedded-pavilion",
   "metadata": {},
   "outputs": [],
   "source": [
    "#!pip install pigeon-jupyter --user"
   ]
  },
  {
   "cell_type": "code",
   "execution_count": null,
   "id": "interracial-visiting",
   "metadata": {},
   "outputs": [],
   "source": [
    "#!pip install pigeon"
   ]
  },
  {
   "cell_type": "code",
   "execution_count": 2,
   "id": "aerial-oxide",
   "metadata": {},
   "outputs": [],
   "source": [
    "import pandas as pd\n",
    "import numpy as np\n",
    "import sys\n",
    "import os\n",
    "from IPython.display import display,Image\n",
    "from pigeon import annotate"
   ]
  },
  {
   "cell_type": "markdown",
   "id": "sustained-latino",
   "metadata": {},
   "source": [
    "# 1. Read Data "
   ]
  },
  {
   "cell_type": "code",
   "execution_count": 3,
   "id": "controversial-sarah",
   "metadata": {},
   "outputs": [],
   "source": [
    "#Change the directory based on where you put the csv file\n",
    "df=pd.read_csv('/home/jianhaozhang/Capstone/old/second_round_labeling.csv')"
   ]
  },
  {
   "cell_type": "code",
   "execution_count": 5,
   "id": "valid-logging",
   "metadata": {},
   "outputs": [],
   "source": [
    "df=df.sort_values(by=['obj_id','frame'],ascending=True).reset_index(drop=True)"
   ]
  },
  {
   "cell_type": "markdown",
   "id": "unlimited-investigator",
   "metadata": {},
   "source": [
    "# 2. Read already labeled data (Do not run if this is your first time labelling!!!) "
   ]
  },
  {
   "cell_type": "code",
   "execution_count": 8,
   "id": "piano-encounter",
   "metadata": {},
   "outputs": [],
   "source": [
    "#Change the directory based on where you put the csv file\n",
    "second_round_labeled=pd.read_csv(\"/home/jianhaozhang/Capstone/Label/second_round_labeled.csv\")"
   ]
  },
  {
   "cell_type": "code",
   "execution_count": 9,
   "id": "impressive-weight",
   "metadata": {},
   "outputs": [
    {
     "data": {
      "text/plain": [
       "2029"
      ]
     },
     "execution_count": 9,
     "metadata": {},
     "output_type": "execute_result"
    }
   ],
   "source": [
    "len(second_round_labeled)"
   ]
  },
  {
   "cell_type": "markdown",
   "id": "joined-palmer",
   "metadata": {},
   "source": [
    "# 3. Creat image path"
   ]
  },
  {
   "cell_type": "code",
   "execution_count": 10,
   "id": "posted-ethernet",
   "metadata": {},
   "outputs": [],
   "source": [
    "path=\"/project2/msca/projects/AvianSolar/ImageDataset/raw_dataset\"\n",
    "Image_path=[]\n",
    "Image_num=len(df)\n",
    "for i in range(Image_num):\n",
    "    Image_path.append(os.path.join(path,df['day_dir'][i],df['camera_dir'][i],df['video_dir'][i],str(df['track_dir'][i]),df['image_file'][i]))"
   ]
  },
  {
   "cell_type": "markdown",
   "id": "hidden-slope",
   "metadata": {},
   "source": [
    "# 4. Start Labeling"
   ]
  },
  {
   "cell_type": "code",
   "execution_count": 11,
   "id": "ecological-documentation",
   "metadata": {
    "scrolled": true
   },
   "outputs": [
    {
     "data": {
      "application/vnd.jupyter.widget-view+json": {
       "model_id": "d14527c3302244c097ff650b38c11973",
       "version_major": 2,
       "version_minor": 0
      },
      "text/html": [
       "<p>Failed to display Jupyter Widget of type <code>HTML</code>.</p>\n",
       "<p>\n",
       "  If you're reading this message in the Jupyter Notebook or JupyterLab Notebook, it may mean\n",
       "  that the widgets JavaScript is still loading. If this message persists, it\n",
       "  likely means that the widgets JavaScript library is either not installed or\n",
       "  not enabled. See the <a href=\"https://ipywidgets.readthedocs.io/en/stable/user_install.html\">Jupyter\n",
       "  Widgets Documentation</a> for setup instructions.\n",
       "</p>\n",
       "<p>\n",
       "  If you're reading this message in another frontend (for example, a static\n",
       "  rendering on GitHub or <a href=\"https://nbviewer.jupyter.org/\">NBViewer</a>),\n",
       "  it may mean that your frontend doesn't currently support widgets.\n",
       "</p>\n"
      ],
      "text/plain": [
       "HTML(value='0 examples annotated, 17583 examples left')"
      ]
     },
     "metadata": {},
     "output_type": "display_data"
    },
    {
     "data": {
      "application/vnd.jupyter.widget-view+json": {
       "model_id": "04216cf6f3594a9b95247bfd37a09335",
       "version_major": 2,
       "version_minor": 0
      },
      "text/html": [
       "<p>Failed to display Jupyter Widget of type <code>Dropdown</code>.</p>\n",
       "<p>\n",
       "  If you're reading this message in the Jupyter Notebook or JupyterLab Notebook, it may mean\n",
       "  that the widgets JavaScript is still loading. If this message persists, it\n",
       "  likely means that the widgets JavaScript library is either not installed or\n",
       "  not enabled. See the <a href=\"https://ipywidgets.readthedocs.io/en/stable/user_install.html\">Jupyter\n",
       "  Widgets Documentation</a> for setup instructions.\n",
       "</p>\n",
       "<p>\n",
       "  If you're reading this message in another frontend (for example, a static\n",
       "  rendering on GitHub or <a href=\"https://nbviewer.jupyter.org/\">NBViewer</a>),\n",
       "  it may mean that your frontend doesn't currently support widgets.\n",
       "</p>\n"
      ],
      "text/plain": [
       "Dropdown(options=('Flying over sky', 'Flying over other backgrounds', 'Flying over reflection', 'Flying just above ground', 'Flying with solar panel', 'Flying in the shadow of solar panel', 'Flying with shadow on the ground', 'About to Perch', 'Sit on panel', 'Walking on the panel', 'Sit on the ground', 'Walking on the ground', 'Sit in background', 'Collision', 'Unknown'), value='Flying over sky')"
      ]
     },
     "metadata": {},
     "output_type": "display_data"
    },
    {
     "data": {
      "application/vnd.jupyter.widget-view+json": {
       "model_id": "4ed32027b2aa4524bbdec4db3103187b",
       "version_major": 2,
       "version_minor": 0
      },
      "text/html": [
       "<p>Failed to display Jupyter Widget of type <code>HBox</code>.</p>\n",
       "<p>\n",
       "  If you're reading this message in the Jupyter Notebook or JupyterLab Notebook, it may mean\n",
       "  that the widgets JavaScript is still loading. If this message persists, it\n",
       "  likely means that the widgets JavaScript library is either not installed or\n",
       "  not enabled. See the <a href=\"https://ipywidgets.readthedocs.io/en/stable/user_install.html\">Jupyter\n",
       "  Widgets Documentation</a> for setup instructions.\n",
       "</p>\n",
       "<p>\n",
       "  If you're reading this message in another frontend (for example, a static\n",
       "  rendering on GitHub or <a href=\"https://nbviewer.jupyter.org/\">NBViewer</a>),\n",
       "  it may mean that your frontend doesn't currently support widgets.\n",
       "</p>\n"
      ],
      "text/plain": [
       "HBox(children=(Button(description='submit', style=ButtonStyle()), Button(description='skip', style=ButtonStyle())))"
      ]
     },
     "metadata": {},
     "output_type": "display_data"
    },
    {
     "data": {
      "application/vnd.jupyter.widget-view+json": {
       "model_id": "4b63e7b033574947825d3bdf51c28e38",
       "version_major": 2,
       "version_minor": 0
      },
      "text/html": [
       "<p>Failed to display Jupyter Widget of type <code>Output</code>.</p>\n",
       "<p>\n",
       "  If you're reading this message in the Jupyter Notebook or JupyterLab Notebook, it may mean\n",
       "  that the widgets JavaScript is still loading. If this message persists, it\n",
       "  likely means that the widgets JavaScript library is either not installed or\n",
       "  not enabled. See the <a href=\"https://ipywidgets.readthedocs.io/en/stable/user_install.html\">Jupyter\n",
       "  Widgets Documentation</a> for setup instructions.\n",
       "</p>\n",
       "<p>\n",
       "  If you're reading this message in another frontend (for example, a static\n",
       "  rendering on GitHub or <a href=\"https://nbviewer.jupyter.org/\">NBViewer</a>),\n",
       "  it may mean that your frontend doesn't currently support widgets.\n",
       "</p>\n"
      ],
      "text/plain": [
       "Output()"
      ]
     },
     "metadata": {},
     "output_type": "display_data"
    }
   ],
   "source": [
    "ann=annotate(Image_path[len(second_round_labeled):],\n",
    "             options=['Flying over sky','Flying over other backgrounds','Flying over reflection','Flying just above ground',\n",
    "                      'Flying with solar panel','Flying in the shadow of solar panel','Flying with shadow on the ground',\n",
    "                      'About to Perch','Sit on panel','Walking on the panel','Sit on the ground',\n",
    "                      'Walking on the ground','Sit in background','Collision','Unknown'],\n",
    "            display_fn=lambda filename:display(Image(filename)))"
   ]
  },
  {
   "cell_type": "markdown",
   "id": "apart-bulgarian",
   "metadata": {},
   "source": [
    "### Check for more info if you unsure about the pic"
   ]
  },
  {
   "cell_type": "code",
   "execution_count": 160,
   "id": "strong-smart",
   "metadata": {
    "scrolled": false
   },
   "outputs": [
    {
     "data": {
      "text/plain": [
       "speed                  7.91467\n",
       "area                     14022\n",
       "fly_over_above               1\n",
       "fly_over_reflection          0\n",
       "fly_through                  0\n",
       "perch_on_panel               0\n",
       "land_on_ground               0\n",
       "perch_in_background          0\n",
       "collision                    0\n",
       "uncertain                    1\n",
       "Name: 1975, dtype: object"
      ]
     },
     "execution_count": 160,
     "metadata": {},
     "output_type": "execute_result"
    }
   ],
   "source": [
    "df.iloc[len(second_round_labeled)+len(ann),[10,11,25,26,27,28,29,30,31,32]]"
   ]
  },
  {
   "cell_type": "markdown",
   "id": "infrared-subscriber",
   "metadata": {},
   "source": [
    "# 5. Store results"
   ]
  },
  {
   "cell_type": "code",
   "execution_count": 173,
   "id": "noble-shark",
   "metadata": {},
   "outputs": [],
   "source": [
    "ann_pd=pd.DataFrame(ann,columns=['Directory','Label'])"
   ]
  },
  {
   "cell_type": "code",
   "execution_count": 174,
   "id": "classical-consultation",
   "metadata": {},
   "outputs": [],
   "source": [
    "union=pd.concat([second_round_labeled, ann_pd], ignore_index=True)"
   ]
  },
  {
   "cell_type": "code",
   "execution_count": 175,
   "id": "reverse-dating",
   "metadata": {},
   "outputs": [],
   "source": [
    "#change your directory\n",
    "union.to_csv('/home/jianhaozhang/Capstone/second_round_labeled.csv',index=False)"
   ]
  }
 ],
 "metadata": {
  "kernelspec": {
   "display_name": "Python 3",
   "language": "python",
   "name": "python3"
  },
  "language_info": {
   "codemirror_mode": {
    "name": "ipython",
    "version": 3
   },
   "file_extension": ".py",
   "mimetype": "text/x-python",
   "name": "python",
   "nbconvert_exporter": "python",
   "pygments_lexer": "ipython3",
   "version": "3.8.3"
  }
 },
 "nbformat": 4,
 "nbformat_minor": 5
}
