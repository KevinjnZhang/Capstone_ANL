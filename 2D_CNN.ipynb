{
 "cells": [
  {
   "cell_type": "code",
   "execution_count": 1,
   "id": "lucky-objective",
   "metadata": {},
   "outputs": [],
   "source": [
    "import pandas as pd\n",
    "import numpy as np\n",
    "import sys\n",
    "import os\n",
    "import tensorflow as tf\n",
    "from tensorflow import keras\n",
    "from tensorflow.keras import layers\n",
    "from tensorflow.keras.models import Sequential\n",
    "from tensorflow.keras.layers import Dense, Flatten, Conv2D, MaxPooling2D, Dropout, Activation, BatchNormalization,MaxPool1D\n",
    "from tensorflow.keras.preprocessing.image import ImageDataGenerator\n",
    "from sklearn.preprocessing import LabelEncoder, StandardScaler, OneHotEncoder, MinMaxScaler\n",
    "from sklearn.metrics import confusion_matrix,classification_report\n",
    "from sklearn.model_selection import train_test_split\n",
    "from timeit import default_timer as timer\n",
    "from datetime import timedelta\n",
    "from datetime import datetime\n",
    "import cv2\n",
    "import seaborn as sns\n",
    "%matplotlib inline\n",
    "import matplotlib.pyplot as plt\n",
    "import matplotlib.image as mpimg\n",
    "\n",
    "import warnings\n",
    "warnings.filterwarnings(\"ignore\")"
   ]
  },
  {
   "cell_type": "markdown",
   "id": "ranking-philip",
   "metadata": {},
   "source": [
    "# 1. Read Data"
   ]
  },
  {
   "cell_type": "code",
   "execution_count": 2,
   "id": "innocent-event",
   "metadata": {},
   "outputs": [],
   "source": [
    "Merge_Label=pd.read_csv('/home/jianhaozhang/Capstone/Merged_Label.csv')"
   ]
  },
  {
   "cell_type": "code",
   "execution_count": 3,
   "id": "surprised-journal",
   "metadata": {},
   "outputs": [],
   "source": [
    "results=pd.read_csv('/home/jianhaozhang/Capstone/Model/model_summary.csv')"
   ]
  },
  {
   "cell_type": "code",
   "execution_count": 4,
   "id": "early-borough",
   "metadata": {},
   "outputs": [
    {
     "data": {
      "text/plain": [
       "74357"
      ]
     },
     "execution_count": 4,
     "metadata": {},
     "output_type": "execute_result"
    }
   ],
   "source": [
    "len(Merge_Label)"
   ]
  },
  {
   "cell_type": "markdown",
   "id": "central-marsh",
   "metadata": {},
   "source": [
    "# 2. Clean Data "
   ]
  },
  {
   "cell_type": "markdown",
   "id": "strange-george",
   "metadata": {},
   "source": [
    "## Drop Unknown and collision label "
   ]
  },
  {
   "cell_type": "code",
   "execution_count": 5,
   "id": "seasonal-class",
   "metadata": {},
   "outputs": [],
   "source": [
    "Merge_Label=Merge_Label[~Merge_Label.Label.isin(['Unknown','Collision'])]"
   ]
  },
  {
   "cell_type": "code",
   "execution_count": 6,
   "id": "brave-medium",
   "metadata": {},
   "outputs": [],
   "source": [
    "Merge_Label.Label=Merge_Label.Label.replace('Flying in the shadow of solar panel','Flying under solar panel')"
   ]
  },
  {
   "cell_type": "markdown",
   "id": "hindu-princess",
   "metadata": {},
   "source": [
    "## Drop unnecessary column "
   ]
  },
  {
   "cell_type": "code",
   "execution_count": 7,
   "id": "overhead-ideal",
   "metadata": {},
   "outputs": [
    {
     "data": {
      "text/plain": [
       "Index(['Directory', 'Label', 'day_dir', 'camera_dir', 'video_dir', 'track_dir',\n",
       "       'directory_x', 'image_file', 'count', 'frame', 'x', 'y', 'speed',\n",
       "       'area', 'id', 'directory_y', 'bird', 'cable', 'panel', 'plant', 'car',\n",
       "       'human', 'other_animal', 'insect', 'aircraft', 'other', 'unknown',\n",
       "       'fly_over_above', 'fly_over_reflection', 'fly_through',\n",
       "       'perch_on_panel', 'land_on_ground', 'perch_in_background', 'collision',\n",
       "       'uncertain', 'image_count', 'obj_id', 'obj_cat', 'obj_cat_binary',\n",
       "       'activity_cat', 'ttv_split'],\n",
       "      dtype='object')"
      ]
     },
     "execution_count": 7,
     "metadata": {},
     "output_type": "execute_result"
    }
   ],
   "source": [
    "Merge_Label.columns"
   ]
  },
  {
   "cell_type": "code",
   "execution_count": 8,
   "id": "fatal-solomon",
   "metadata": {},
   "outputs": [],
   "source": [
    "Merge_Label=Merge_Label[['Directory', 'Label', 'x', 'y', 'speed','area','obj_id','frame','image_count']]"
   ]
  },
  {
   "cell_type": "code",
   "execution_count": 9,
   "id": "understanding-backing",
   "metadata": {},
   "outputs": [
    {
     "data": {
      "text/html": [
       "<div>\n",
       "<style scoped>\n",
       "    .dataframe tbody tr th:only-of-type {\n",
       "        vertical-align: middle;\n",
       "    }\n",
       "\n",
       "    .dataframe tbody tr th {\n",
       "        vertical-align: top;\n",
       "    }\n",
       "\n",
       "    .dataframe thead th {\n",
       "        text-align: right;\n",
       "    }\n",
       "</style>\n",
       "<table border=\"1\" class=\"dataframe\">\n",
       "  <thead>\n",
       "    <tr style=\"text-align: right;\">\n",
       "      <th></th>\n",
       "      <th>Directory</th>\n",
       "      <th>Label</th>\n",
       "      <th>x</th>\n",
       "      <th>y</th>\n",
       "      <th>speed</th>\n",
       "      <th>area</th>\n",
       "      <th>obj_id</th>\n",
       "      <th>frame</th>\n",
       "      <th>image_count</th>\n",
       "    </tr>\n",
       "  </thead>\n",
       "  <tbody>\n",
       "    <tr>\n",
       "      <th>0</th>\n",
       "      <td>/project2/msca/projects/AvianSolar/ImageDatase...</td>\n",
       "      <td>Flying with solar panel</td>\n",
       "      <td>832</td>\n",
       "      <td>1134</td>\n",
       "      <td>66.79106</td>\n",
       "      <td>12769</td>\n",
       "      <td>40273</td>\n",
       "      <td>2184</td>\n",
       "      <td>28.0</td>\n",
       "    </tr>\n",
       "    <tr>\n",
       "      <th>1</th>\n",
       "      <td>/project2/msca/projects/AvianSolar/ImageDatase...</td>\n",
       "      <td>Flying with solar panel</td>\n",
       "      <td>1692</td>\n",
       "      <td>1330</td>\n",
       "      <td>89.06198</td>\n",
       "      <td>13447</td>\n",
       "      <td>40273</td>\n",
       "      <td>2196</td>\n",
       "      <td>28.0</td>\n",
       "    </tr>\n",
       "    <tr>\n",
       "      <th>2</th>\n",
       "      <td>/project2/msca/projects/AvianSolar/ImageDatase...</td>\n",
       "      <td>Flying under solar panel</td>\n",
       "      <td>2988</td>\n",
       "      <td>1787</td>\n",
       "      <td>147.78356</td>\n",
       "      <td>13340</td>\n",
       "      <td>40273</td>\n",
       "      <td>2207</td>\n",
       "      <td>28.0</td>\n",
       "    </tr>\n",
       "    <tr>\n",
       "      <th>3</th>\n",
       "      <td>/project2/msca/projects/AvianSolar/ImageDatase...</td>\n",
       "      <td>Flying over reflection</td>\n",
       "      <td>1598</td>\n",
       "      <td>1310</td>\n",
       "      <td>84.22580</td>\n",
       "      <td>13221</td>\n",
       "      <td>40273</td>\n",
       "      <td>2195</td>\n",
       "      <td>28.0</td>\n",
       "    </tr>\n",
       "    <tr>\n",
       "      <th>4</th>\n",
       "      <td>/project2/msca/projects/AvianSolar/ImageDatase...</td>\n",
       "      <td>Flying under solar panel</td>\n",
       "      <td>3149</td>\n",
       "      <td>1856</td>\n",
       "      <td>161.16776</td>\n",
       "      <td>12656</td>\n",
       "      <td>40273</td>\n",
       "      <td>2208</td>\n",
       "      <td>28.0</td>\n",
       "    </tr>\n",
       "  </tbody>\n",
       "</table>\n",
       "</div>"
      ],
      "text/plain": [
       "                                           Directory  \\\n",
       "0  /project2/msca/projects/AvianSolar/ImageDatase...   \n",
       "1  /project2/msca/projects/AvianSolar/ImageDatase...   \n",
       "2  /project2/msca/projects/AvianSolar/ImageDatase...   \n",
       "3  /project2/msca/projects/AvianSolar/ImageDatase...   \n",
       "4  /project2/msca/projects/AvianSolar/ImageDatase...   \n",
       "\n",
       "                      Label     x     y      speed   area  obj_id  frame  \\\n",
       "0   Flying with solar panel   832  1134   66.79106  12769   40273   2184   \n",
       "1   Flying with solar panel  1692  1330   89.06198  13447   40273   2196   \n",
       "2  Flying under solar panel  2988  1787  147.78356  13340   40273   2207   \n",
       "3    Flying over reflection  1598  1310   84.22580  13221   40273   2195   \n",
       "4  Flying under solar panel  3149  1856  161.16776  12656   40273   2208   \n",
       "\n",
       "   image_count  \n",
       "0         28.0  \n",
       "1         28.0  \n",
       "2         28.0  \n",
       "3         28.0  \n",
       "4         28.0  "
      ]
     },
     "execution_count": 9,
     "metadata": {},
     "output_type": "execute_result"
    }
   ],
   "source": [
    "Merge_Label.head()"
   ]
  },
  {
   "cell_type": "markdown",
   "id": "experimental-focus",
   "metadata": {},
   "source": [
    "# 3. Create different group labels"
   ]
  },
  {
   "cell_type": "markdown",
   "id": "photographic-remains",
   "metadata": {},
   "source": [
    "## Flying vs. Non-Flying "
   ]
  },
  {
   "cell_type": "code",
   "execution_count": 9,
   "id": "brief-addiction",
   "metadata": {},
   "outputs": [],
   "source": [
    "group1=Merge_Label.copy()"
   ]
  },
  {
   "cell_type": "code",
   "execution_count": 10,
   "id": "welsh-amplifier",
   "metadata": {},
   "outputs": [],
   "source": [
    "group1.Label=group1.Label.replace('Flying over sky','Flying')\n",
    "group1.Label=group1.Label.replace('Flying over other backgrounds','Flying')\n",
    "group1.Label=group1.Label.replace('Flying with solar panel','Flying')\n",
    "group1.Label=group1.Label.replace('Flying over reflection','Flying')\n",
    "group1.Label=group1.Label.replace('Sit on panel','Non-Flying')\n",
    "group1.Label=group1.Label.replace('Flying just above ground','Flying')\n",
    "group1.Label=group1.Label.replace('Flying under solar panel','Flying')\n",
    "group1.Label=group1.Label.replace('Flying with shadow on the ground','Flying')\n",
    "group1.Label=group1.Label.replace('Sit in background','Non-Flying')\n",
    "group1.Label=group1.Label.replace('Walking on the ground','Non-Flying')\n",
    "group1.Label=group1.Label.replace('About to Perch','Non-Flying')\n",
    "group1.Label=group1.Label.replace('Sit on the ground','Non-Flying')\n",
    "group1.Label=group1.Label.replace('Walking on the panel','Non-Flying')"
   ]
  },
  {
   "cell_type": "code",
   "execution_count": 19,
   "id": "chief-principal",
   "metadata": {},
   "outputs": [
    {
     "data": {
      "text/plain": [
       "Flying        70379\n",
       "Non-Flying     3632\n",
       "Name: Label, dtype: int64"
      ]
     },
     "execution_count": 19,
     "metadata": {},
     "output_type": "execute_result"
    }
   ],
   "source": [
    "group1.Label.value_counts()"
   ]
  },
  {
   "cell_type": "code",
   "execution_count": 21,
   "id": "numerous-seating",
   "metadata": {},
   "outputs": [],
   "source": [
    "label1=group1[group1.Label=='Flying']\n",
    "label2=group1[group1.Label=='Non-Flying']"
   ]
  },
  {
   "cell_type": "code",
   "execution_count": 22,
   "id": "considered-debate",
   "metadata": {},
   "outputs": [],
   "source": [
    "under_label1=np.random.choice(label1.Directory,3632,replace=False)"
   ]
  },
  {
   "cell_type": "code",
   "execution_count": 23,
   "id": "equipped-appraisal",
   "metadata": {},
   "outputs": [],
   "source": [
    "new_label1=label1[label1.Directory.isin(under_label1)]"
   ]
  },
  {
   "cell_type": "code",
   "execution_count": 24,
   "id": "progressive-wales",
   "metadata": {},
   "outputs": [],
   "source": [
    "group1=pd.concat([new_label1,label2],ignore_index=True)"
   ]
  },
  {
   "cell_type": "code",
   "execution_count": 25,
   "id": "norwegian-quantity",
   "metadata": {},
   "outputs": [
    {
     "data": {
      "text/plain": [
       "Non-Flying    3632\n",
       "Flying        3632\n",
       "Name: Label, dtype: int64"
      ]
     },
     "execution_count": 25,
     "metadata": {},
     "output_type": "execute_result"
    }
   ],
   "source": [
    "group1.Label.value_counts()"
   ]
  },
  {
   "cell_type": "markdown",
   "id": "addressed-pavilion",
   "metadata": {},
   "source": [
    "## panel in frame vs. no panel  "
   ]
  },
  {
   "cell_type": "code",
   "execution_count": 11,
   "id": "sensitive-virtue",
   "metadata": {},
   "outputs": [],
   "source": [
    "group2=Merge_Label.copy()"
   ]
  },
  {
   "cell_type": "code",
   "execution_count": 12,
   "id": "direct-disco",
   "metadata": {},
   "outputs": [],
   "source": [
    "group2.Label=group2.Label.replace('Flying over sky','No Panel')\n",
    "group2.Label=group2.Label.replace('Flying over other backgrounds','No Panel')\n",
    "group2.Label=group2.Label.replace('Flying with solar panel','Panel')\n",
    "group2.Label=group2.Label.replace('Flying over reflection','Panel')\n",
    "group2.Label=group2.Label.replace('Sit on panel','Panel')\n",
    "group2.Label=group2.Label.replace('Flying just above ground','No Panel')\n",
    "group2.Label=group2.Label.replace('Flying under solar panel','Panel')\n",
    "group2.Label=group2.Label.replace('Flying with shadow on the ground','No Panel')\n",
    "group2.Label=group2.Label.replace('Sit in background','No Panel')\n",
    "group2.Label=group2.Label.replace('Walking on the ground','No Panel')\n",
    "group2.Label=group2.Label.replace('About to Perch','Panel')\n",
    "group2.Label=group2.Label.replace('Sit on the ground','No Panel')\n",
    "group2.Label=group2.Label.replace('Walking on the panel','Panel')"
   ]
  },
  {
   "cell_type": "code",
   "execution_count": 22,
   "id": "upper-choice",
   "metadata": {},
   "outputs": [
    {
     "data": {
      "text/plain": [
       "No Panel    50432\n",
       "Panel       23579\n",
       "Name: Label, dtype: int64"
      ]
     },
     "execution_count": 22,
     "metadata": {},
     "output_type": "execute_result"
    }
   ],
   "source": [
    "group2.Label.value_counts()"
   ]
  },
  {
   "cell_type": "code",
   "execution_count": 29,
   "id": "boring-effect",
   "metadata": {},
   "outputs": [],
   "source": [
    "label1=group2[group2.Label=='No Panel']\n",
    "label2=group2[group2.Label=='Panel']"
   ]
  },
  {
   "cell_type": "code",
   "execution_count": 30,
   "id": "geographic-reach",
   "metadata": {},
   "outputs": [],
   "source": [
    "under_label1=np.random.choice(label1.Directory,7000,replace=False)\n",
    "under_label2=np.random.choice(label2.Directory,7000,replace=False)"
   ]
  },
  {
   "cell_type": "code",
   "execution_count": 31,
   "id": "effective-background",
   "metadata": {},
   "outputs": [],
   "source": [
    "new_label1=label1[label1.Directory.isin(under_label1)]\n",
    "new_label2=label2[label2.Directory.isin(under_label2)]"
   ]
  },
  {
   "cell_type": "code",
   "execution_count": 32,
   "id": "worthy-adaptation",
   "metadata": {},
   "outputs": [],
   "source": [
    "group2=pd.concat([new_label1,new_label2],ignore_index=True)"
   ]
  },
  {
   "cell_type": "code",
   "execution_count": 33,
   "id": "understanding-thriller",
   "metadata": {},
   "outputs": [
    {
     "data": {
      "text/plain": [
       "No Panel    7000\n",
       "Panel       7000\n",
       "Name: Label, dtype: int64"
      ]
     },
     "execution_count": 33,
     "metadata": {},
     "output_type": "execute_result"
    }
   ],
   "source": [
    "group2.Label.value_counts()"
   ]
  },
  {
   "cell_type": "markdown",
   "id": "announced-offense",
   "metadata": {},
   "source": [
    "## Background vs. panel vs. ground"
   ]
  },
  {
   "cell_type": "code",
   "execution_count": 13,
   "id": "continued-miami",
   "metadata": {},
   "outputs": [],
   "source": [
    "group3=Merge_Label.copy()"
   ]
  },
  {
   "cell_type": "code",
   "execution_count": 14,
   "id": "three-sunrise",
   "metadata": {},
   "outputs": [],
   "source": [
    "group3.Label=group3.Label.replace('Flying over sky','Background')\n",
    "group3.Label=group3.Label.replace('Flying over other backgrounds','Background')\n",
    "group3.Label=group3.Label.replace('Flying with solar panel','Panel')\n",
    "group3.Label=group3.Label.replace('Flying over reflection','Panel')\n",
    "group3.Label=group3.Label.replace('Sit on panel','Panel')\n",
    "group3.Label=group3.Label.replace('Flying just above ground','Ground')\n",
    "group3.Label=group3.Label.replace('Flying under solar panel','Panel')\n",
    "group3.Label=group3.Label.replace('Flying with shadow on the ground','Ground')\n",
    "group3.Label=group3.Label.replace('Sit in background','Background')\n",
    "group3.Label=group3.Label.replace('Walking on the ground','Ground')\n",
    "group3.Label=group3.Label.replace('About to Perch','Panel')\n",
    "group3.Label=group3.Label.replace('Sit on the ground','Ground')\n",
    "group3.Label=group3.Label.replace('Walking on the panel','Panel')"
   ]
  },
  {
   "cell_type": "code",
   "execution_count": 25,
   "id": "obvious-rhythm",
   "metadata": {},
   "outputs": [
    {
     "data": {
      "text/plain": [
       "Background    47501\n",
       "Panel         23579\n",
       "Ground         2931\n",
       "Name: Label, dtype: int64"
      ]
     },
     "execution_count": 25,
     "metadata": {},
     "output_type": "execute_result"
    }
   ],
   "source": [
    "group3.Label.value_counts()"
   ]
  },
  {
   "cell_type": "code",
   "execution_count": 37,
   "id": "consecutive-savage",
   "metadata": {},
   "outputs": [],
   "source": [
    "label1=group3[group3.Label=='Background']\n",
    "label2=group3[group3.Label=='Panel']\n",
    "label3=group3[group3.Label=='Ground']"
   ]
  },
  {
   "cell_type": "code",
   "execution_count": 38,
   "id": "durable-belarus",
   "metadata": {},
   "outputs": [],
   "source": [
    "under_label1=np.random.choice(label1.Directory,2931,replace=False)\n",
    "under_label2=np.random.choice(label2.Directory,2931,replace=False)"
   ]
  },
  {
   "cell_type": "code",
   "execution_count": 39,
   "id": "secret-charles",
   "metadata": {},
   "outputs": [],
   "source": [
    "new_label1=label1[label1.Directory.isin(under_label1)]\n",
    "new_label2=label2[label2.Directory.isin(under_label2)]"
   ]
  },
  {
   "cell_type": "code",
   "execution_count": 40,
   "id": "acknowledged-repair",
   "metadata": {},
   "outputs": [],
   "source": [
    "group3=pd.concat([new_label1,new_label2,label3],ignore_index=True)"
   ]
  },
  {
   "cell_type": "code",
   "execution_count": 41,
   "id": "cooked-austin",
   "metadata": {},
   "outputs": [
    {
     "data": {
      "text/plain": [
       "Background    2931\n",
       "Ground        2931\n",
       "Panel         2931\n",
       "Name: Label, dtype: int64"
      ]
     },
     "execution_count": 41,
     "metadata": {},
     "output_type": "execute_result"
    }
   ],
   "source": [
    "group3.Label.value_counts()"
   ]
  },
  {
   "cell_type": "markdown",
   "id": "featured-causing",
   "metadata": {},
   "source": [
    "## Background vs. Fly with solar panel vs. Interaction vs. ground "
   ]
  },
  {
   "cell_type": "code",
   "execution_count": 15,
   "id": "rocky-sugar",
   "metadata": {},
   "outputs": [],
   "source": [
    "group4=Merge_Label.copy()"
   ]
  },
  {
   "cell_type": "code",
   "execution_count": 16,
   "id": "signed-police",
   "metadata": {},
   "outputs": [],
   "source": [
    "group4.Label=group4.Label.replace('Flying over sky','Background')\n",
    "group4.Label=group4.Label.replace('Flying over other backgrounds','Background')\n",
    "group4.Label=group4.Label.replace('Flying with solar panel','Flying Panel')\n",
    "group4.Label=group4.Label.replace('Flying over reflection','Flying Panel')\n",
    "group4.Label=group4.Label.replace('Sit on panel','Interact Panel')\n",
    "group4.Label=group4.Label.replace('Flying just above ground','Ground')\n",
    "group4.Label=group4.Label.replace('Flying under solar panel','Interact Panel')\n",
    "group4.Label=group4.Label.replace('Flying with shadow on the ground','Ground')\n",
    "group4.Label=group4.Label.replace('Sit in background','Background')\n",
    "group4.Label=group4.Label.replace('Walking on the ground','Ground')\n",
    "group4.Label=group4.Label.replace('About to Perch','Interact Panel')\n",
    "group4.Label=group4.Label.replace('Sit on the ground','Ground')\n",
    "group4.Label=group4.Label.replace('Walking on the panel','Interact Panel')"
   ]
  },
  {
   "cell_type": "code",
   "execution_count": 28,
   "id": "joint-specific",
   "metadata": {},
   "outputs": [
    {
     "data": {
      "text/plain": [
       "Background        47501\n",
       "Flying Panel      19987\n",
       "Interact Panel     3592\n",
       "Ground             2931\n",
       "Name: Label, dtype: int64"
      ]
     },
     "execution_count": 28,
     "metadata": {},
     "output_type": "execute_result"
    }
   ],
   "source": [
    "group4.Label.value_counts()"
   ]
  },
  {
   "cell_type": "code",
   "execution_count": 45,
   "id": "increased-applicant",
   "metadata": {},
   "outputs": [],
   "source": [
    "label1=group4[group4.Label=='Background']\n",
    "label2=group4[group4.Label=='Flying Panel']\n",
    "label3=group4[group4.Label=='Interact Panel']\n",
    "label4=group4[group4.Label=='Ground']"
   ]
  },
  {
   "cell_type": "code",
   "execution_count": 46,
   "id": "retained-venice",
   "metadata": {},
   "outputs": [],
   "source": [
    "under_label1=np.random.choice(label1.Directory,3592,replace=False)\n",
    "under_label2=np.random.choice(label2.Directory,3592,replace=False)"
   ]
  },
  {
   "cell_type": "code",
   "execution_count": 47,
   "id": "canadian-growth",
   "metadata": {},
   "outputs": [],
   "source": [
    "new_label1=label1[label1.Directory.isin(under_label1)]\n",
    "new_label2=label2[label2.Directory.isin(under_label2)]"
   ]
  },
  {
   "cell_type": "code",
   "execution_count": 48,
   "id": "obvious-prediction",
   "metadata": {},
   "outputs": [],
   "source": [
    "group4=pd.concat([new_label1,new_label2,label3,label4],ignore_index=True)"
   ]
  },
  {
   "cell_type": "code",
   "execution_count": 49,
   "id": "unnecessary-lloyd",
   "metadata": {},
   "outputs": [
    {
     "data": {
      "text/plain": [
       "Background        3592\n",
       "Interact Panel    3592\n",
       "Flying Panel      3592\n",
       "Ground            2931\n",
       "Name: Label, dtype: int64"
      ]
     },
     "execution_count": 49,
     "metadata": {},
     "output_type": "execute_result"
    }
   ],
   "source": [
    "group4.Label.value_counts()"
   ]
  },
  {
   "cell_type": "markdown",
   "id": "ambient-substitute",
   "metadata": {},
   "source": [
    "## Full label "
   ]
  },
  {
   "cell_type": "code",
   "execution_count": 10,
   "id": "bearing-portugal",
   "metadata": {},
   "outputs": [],
   "source": [
    "group6=Merge_Label.copy()"
   ]
  },
  {
   "cell_type": "code",
   "execution_count": 11,
   "id": "greek-episode",
   "metadata": {},
   "outputs": [],
   "source": [
    "group6.Label=group6.Label.replace('Walking on the ground','Sit on the ground')\n",
    "group6.Label=group6.Label.replace('About to Perch','Sit on panel')\n",
    "group6.Label=group6.Label.replace('Walking on the panel','Sit on panel')\n",
    "group6.Label=group6.Label.replace('Flying just above ground','Flying with ground')\n",
    "group6.Label=group6.Label.replace('Flying with shadow on the ground','Flying with ground')"
   ]
  },
  {
   "cell_type": "code",
   "execution_count": 12,
   "id": "placed-jordan",
   "metadata": {},
   "outputs": [
    {
     "data": {
      "text/plain": [
       "Flying over sky                  34080\n",
       "Flying over other backgrounds    12382\n",
       "Flying with solar panel          10449\n",
       "Flying over reflection            9538\n",
       "Flying with ground                2541\n",
       "Sit on panel                      2203\n",
       "Flying under solar panel          1389\n",
       "Sit in background                 1039\n",
       "Sit on the ground                  390\n",
       "Name: Label, dtype: int64"
      ]
     },
     "execution_count": 12,
     "metadata": {},
     "output_type": "execute_result"
    }
   ],
   "source": [
    "group6.Label.value_counts()"
   ]
  },
  {
   "cell_type": "code",
   "execution_count": 13,
   "id": "neutral-receipt",
   "metadata": {},
   "outputs": [],
   "source": [
    "label1=group6[group6.Label=='Flying over sky']\n",
    "label2=group6[group6.Label=='Flying over other backgrounds']\n",
    "label3=group6[group6.Label=='Flying with solar panel']\n",
    "label4=group6[group6.Label=='Flying over reflection']\n",
    "label5=group6[group6.Label=='Flying with ground']\n",
    "label6=group6[group6.Label=='Sit on panel']\n",
    "label7=group6[group6.Label=='Flying under solar panel']\n",
    "label8=group6[group6.Label=='Sit in background']\n",
    "label9=group6[group6.Label=='Sit on the ground']"
   ]
  },
  {
   "cell_type": "code",
   "execution_count": 14,
   "id": "civilian-growth",
   "metadata": {},
   "outputs": [],
   "source": [
    "under_label1=np.random.choice(label1.Directory,3000,replace=False)\n",
    "under_label2=np.random.choice(label2.Directory,3000,replace=False)\n",
    "under_label3=np.random.choice(label3.Directory,3000,replace=False)\n",
    "under_label4=np.random.choice(label4.Directory,3000,replace=False)"
   ]
  },
  {
   "cell_type": "code",
   "execution_count": 15,
   "id": "coastal-participation",
   "metadata": {},
   "outputs": [],
   "source": [
    "new_label1=label1[label1.Directory.isin(under_label1)]\n",
    "new_label2=label2[label2.Directory.isin(under_label2)]\n",
    "new_label3=label3[label3.Directory.isin(under_label3)]\n",
    "new_label4=label4[label4.Directory.isin(under_label4)]"
   ]
  },
  {
   "cell_type": "code",
   "execution_count": 16,
   "id": "defensive-soldier",
   "metadata": {},
   "outputs": [],
   "source": [
    "group6=pd.concat([new_label1,new_label2,new_label3,new_label4,label5,label6,label7,label8,label9],ignore_index=True)"
   ]
  },
  {
   "cell_type": "code",
   "execution_count": 17,
   "id": "diagnostic-margin",
   "metadata": {},
   "outputs": [
    {
     "data": {
      "text/plain": [
       "Flying over sky                  3000\n",
       "Flying over other backgrounds    3000\n",
       "Flying with solar panel          3000\n",
       "Flying over reflection           3000\n",
       "Flying with ground               2541\n",
       "Sit on panel                     2203\n",
       "Flying under solar panel         1389\n",
       "Sit in background                1039\n",
       "Sit on the ground                 390\n",
       "Name: Label, dtype: int64"
      ]
     },
     "execution_count": 17,
     "metadata": {},
     "output_type": "execute_result"
    }
   ],
   "source": [
    "group6.Label.value_counts()"
   ]
  },
  {
   "cell_type": "markdown",
   "id": "otherwise-cliff",
   "metadata": {},
   "source": [
    "# 4. Feature Engineering"
   ]
  },
  {
   "cell_type": "markdown",
   "id": "personal-yugoslavia",
   "metadata": {},
   "source": [
    "## Train/Test/Val Split "
   ]
  },
  {
   "cell_type": "code",
   "execution_count": 18,
   "id": "correct-conservative",
   "metadata": {},
   "outputs": [],
   "source": [
    "def train_test_val_split(data):\n",
    "    \n",
    "    track_list=list(pd.unique(data.obj_id))\n",
    "    train_val_tmp,test_tmp=train_test_split(track_list,test_size=0.15,train_size=0.85,random_state=66)\n",
    "        #train_val split\n",
    "    train_tmp,val_tmp= train_test_split(train_val_tmp,test_size =0.1,train_size =0.9,random_state=66)\n",
    "    \n",
    "    train=data[data.obj_id.isin(train_tmp)]\n",
    "    test=data[data.obj_id.isin(test_tmp)]\n",
    "    val=data[data.obj_id.isin(val_tmp)]\n",
    "    \n",
    "    return train,test,val"
   ]
  },
  {
   "cell_type": "markdown",
   "id": "continent-alpha",
   "metadata": {},
   "source": [
    "## Label Encoding"
   ]
  },
  {
   "cell_type": "code",
   "execution_count": 19,
   "id": "wooden-avatar",
   "metadata": {},
   "outputs": [],
   "source": [
    "def label_encoding(train,test,val):\n",
    "    num_class = len(pd.unique(train.Label))\n",
    "    \n",
    "    #label encoder\n",
    "    label_encoder = LabelEncoder()\n",
    "    train_label_encoded = label_encoder.fit_transform(np.ravel(train.Label, order='C'))\n",
    "    val_label_encoded = label_encoder.transform(np.ravel(val.Label, order='C'))\n",
    "    test_label_encoded = label_encoder.transform(np.ravel(test.Label, order='C'))\n",
    "    \n",
    "    train['label_encode']=list(train_label_encoded)\n",
    "    val['label_encode']=list(val_label_encoded)\n",
    "    test['label_encode']=list(test_label_encoded)\n",
    "    \n",
    "    #convert to class vector\n",
    "    train_label_vec=keras.utils.to_categorical(train_label_encoded,num_class)\n",
    "    val_label_vec=keras.utils.to_categorical(val_label_encoded,num_class)\n",
    "    test_label_vec=keras.utils.to_categorical(test_label_encoded,num_class)\n",
    "    \n",
    "    train['label_vec']=list(train_label_vec)\n",
    "    val['label_vec']=list(val_label_vec)\n",
    "    test['label_vec']=list(test_label_vec)\n",
    "    \n",
    "    \n",
    "    return train,test,val"
   ]
  },
  {
   "cell_type": "markdown",
   "id": "urban-small",
   "metadata": {},
   "source": [
    "## Normalize Metadata "
   ]
  },
  {
   "cell_type": "code",
   "execution_count": 20,
   "id": "tired-insurance",
   "metadata": {},
   "outputs": [],
   "source": [
    "def normalize(train,test,val):\n",
    "    \n",
    "    sc=StandardScaler()\n",
    "    train[['x','y','speed','area']]=sc.fit_transform(train[['x','y','speed','area']])\n",
    "    test[['x','y','speed','area']]=sc.transform(test[['x','y','speed','area']])\n",
    "    val[['x','y','speed','area']]=sc.transform(val[['x','y','speed','area']])\n",
    "    \n",
    "    return train,test,val"
   ]
  },
  {
   "cell_type": "markdown",
   "id": "advance-balloon",
   "metadata": {},
   "source": [
    "## Preprocessing: put all together "
   ]
  },
  {
   "cell_type": "code",
   "execution_count": 21,
   "id": "behind-thing",
   "metadata": {},
   "outputs": [],
   "source": [
    "def preprocessing(data):\n",
    "    train,test,val=train_test_val_split(data)\n",
    "    train,test,val=label_encoding(train,test,val)\n",
    "    train,test,val=normalize(train,test,val)\n",
    "    \n",
    "    return train,test,val"
   ]
  },
  {
   "cell_type": "markdown",
   "id": "colored-tutorial",
   "metadata": {},
   "source": [
    "# 5. Data Pipeline"
   ]
  },
  {
   "cell_type": "code",
   "execution_count": 22,
   "id": "ranging-yellow",
   "metadata": {},
   "outputs": [],
   "source": [
    "def process_img(directory):\n",
    "    #read image\n",
    "    img = tf.io.read_file(directory)\n",
    "    # convert the compressed string to a 3D uint8 tensor\n",
    "    img = tf.image.decode_jpeg(img, channels=3)\n",
    "    # resize the image to the desired size\n",
    "    img = tf.image.resize_with_pad(img,224,224) #resize by 224 \n",
    "\n",
    "    return img"
   ]
  },
  {
   "cell_type": "code",
   "execution_count": 23,
   "id": "small-volunteer",
   "metadata": {},
   "outputs": [],
   "source": [
    "def get_label(label):\n",
    "    return tf.convert_to_tensor(label)"
   ]
  },
  {
   "cell_type": "code",
   "execution_count": 24,
   "id": "sharp-migration",
   "metadata": {},
   "outputs": [],
   "source": [
    "def get_metadata(metadata):\n",
    "    return tf.convert_to_tensor(metadata,dtype=tf.float64)"
   ]
  },
  {
   "cell_type": "code",
   "execution_count": 25,
   "id": "caring-quarterly",
   "metadata": {},
   "outputs": [],
   "source": [
    "batch_size=256\n",
    "def batch_processing(df):\n",
    "    img_dir=list(df.Directory.values)\n",
    "    label_vec=list(df.label_vec.values)\n",
    "    meta_list=list(df[['x','y','speed','area']].to_numpy())\n",
    "    \n",
    "    \n",
    "#     img_data=tf.data.Dataset.from_tensor_slices(train.Directory.values).map(lambda x:tf.py_function(func=process_img,\n",
    "#           inp=[x],Tout=tf.float32))\n",
    "    img_data=tf.data.Dataset.from_tensor_slices(img_dir).map(lambda x: process_img(x))\n",
    "    img_data=img_data.map(lambda x: keras.applications.resnet50.preprocess_input(x))\n",
    "    label_data=tf.data.Dataset.from_tensor_slices(label_vec).map(lambda x: get_label(x))\n",
    "    meta_data=tf.data.Dataset.from_tensor_slices(meta_list).map(lambda x: get_metadata(x)) \n",
    "    \n",
    "    combined_input=tf.data.Dataset.zip((img_data,meta_data))\n",
    "    #combined_data=tf.data.Dataset.zip((img_data,label_data))\n",
    "    combined_data=tf.data.Dataset.zip((combined_input,label_data))\n",
    "    combined_data=combined_data.batch(batch_size).prefetch(tf.data.experimental.AUTOTUNE)\n",
    "    \n",
    "    return combined_data"
   ]
  },
  {
   "cell_type": "code",
   "execution_count": 26,
   "id": "suffering-movement",
   "metadata": {},
   "outputs": [],
   "source": [
    "def data_generator(data):\n",
    "    train,test,val=preprocessing(data)\n",
    "    \n",
    "    train_data=batch_processing(train)\n",
    "    test_data=batch_processing(test)\n",
    "    val_data=batch_processing(val)\n",
    "    \n",
    "    return train_data,test_data,val_data"
   ]
  },
  {
   "cell_type": "markdown",
   "id": "reflected-argument",
   "metadata": {},
   "source": [
    "## Generate data "
   ]
  },
  {
   "cell_type": "code",
   "execution_count": 62,
   "id": "stuck-active",
   "metadata": {},
   "outputs": [],
   "source": [
    "train_data1,test_data1,val_data1=data_generator(group1)\n",
    "train_data2,test_data2,val_data2=data_generator(group2)\n",
    "train_data3,test_data3,val_data3=data_generator(group3)\n",
    "train_data4,test_data4,val_data4=data_generator(group4)\n",
    "train_data6,test_data6,val_data6=data_generator(group6)"
   ]
  },
  {
   "cell_type": "markdown",
   "id": "annual-painting",
   "metadata": {},
   "source": [
    "# 6. Building Model"
   ]
  },
  {
   "cell_type": "code",
   "execution_count": 73,
   "id": "absolute-hawaiian",
   "metadata": {},
   "outputs": [],
   "source": [
    "def draw_learning_curve(history,path,keys=['categorical_accuracy','loss']):\n",
    "    plt.figure(figsize=(20,8))\n",
    "    for i, key in enumerate(keys):\n",
    "        plt.subplot(1, 2, i + 1)\n",
    "        plt.plot(history.history[key])\n",
    "        plt.plot(history.history['val_' + key])\n",
    "        plt.title('Learning Curve')\n",
    "        plt.ylabel(key.title())\n",
    "        plt.grid(True)\n",
    "        #plt.gca().set_ylim(0, 1)\n",
    "        plt.xlabel('Epoch')\n",
    "        plt.legend(['train', 'val'], loc='best')\n",
    "    plt.savefig(path+'/model_learning_curve.png')\n",
    "    plt.show()"
   ]
  },
  {
   "cell_type": "code",
   "execution_count": 74,
   "id": "spectacular-owner",
   "metadata": {},
   "outputs": [],
   "source": [
    "def generate_model(df):\n",
    "    resnet=tf.keras.applications.ResNet50(\n",
    "            weights=\"imagenet\", \n",
    "            input_shape=(224,224,3),\n",
    "            include_top=False)\n",
    "\n",
    "    img_inputs = keras.Input(shape=(224, 224, 3))\n",
    "    first = resnet(img_inputs, training=False)\n",
    "    first = Dropout(.5)(first)\n",
    "    first = keras.layers.GlobalAveragePooling2D()(first)\n",
    "    #first = Flatten()(first)\n",
    "\n",
    "    meta_inputs= keras.Input(shape=(4,1))\n",
    "    second = Dense(16,activation= \"relu\")(meta_inputs)\n",
    "    second = Dropout(.3)(second)\n",
    "    second = Dense(32,activation= \"relu\")(second)\n",
    "    second = Dropout(.3)(second)\n",
    "    second = Flatten()(second)\n",
    "\n",
    "    combined = keras.layers.concatenate([first,second])\n",
    "    combined = Dense(128, activation= \"relu\")(combined)\n",
    "    combined = Dropout(.3)(combined)\n",
    "\n",
    "    outputs = Dense(len(pd.unique(df.Label)), activation='softmax')(combined)\n",
    "\n",
    "    #optimizer = keras.optimizers.RMSprop(lr=2e-5) #Try Adam, different learning rate \n",
    "    model = keras.Model(inputs=[img_inputs,meta_inputs], outputs=[outputs])\n",
    "    model.compile(optimizer = keras.optimizers.RMSprop(lr=1e-6),#tf.keras.optimizers.Adam(learning_rate=0.0001),\n",
    "              loss='CategoricalCrossentropy', \n",
    "                  metrics=[keras.metrics.CategoricalAccuracy()])#keras.metrics.CategoricalAccuracy()\n",
    "    return model"
   ]
  },
  {
   "cell_type": "markdown",
   "id": "expected-alliance",
   "metadata": {},
   "source": [
    "# 7. Training Model "
   ]
  },
  {
   "cell_type": "code",
   "execution_count": 74,
   "id": "applicable-chile",
   "metadata": {},
   "outputs": [],
   "source": [
    "batch_size=64\n",
    "epochs=40\n",
    "\n",
    "model_earlystop_callback = tf.keras.callbacks.EarlyStopping(monitor='val_loss',\n",
    "                                                            verbose=1,\n",
    "                                                            mode='min',\n",
    "                                                            patience=5,\n",
    "                                                            restore_best_weights=True)"
   ]
  },
  {
   "cell_type": "markdown",
   "id": "extensive-litigation",
   "metadata": {},
   "source": [
    "## Group 1"
   ]
  },
  {
   "cell_type": "code",
   "execution_count": 136,
   "id": "excellent-eight",
   "metadata": {},
   "outputs": [],
   "source": [
    "model1=generate_model(group1)"
   ]
  },
  {
   "cell_type": "code",
   "execution_count": 106,
   "id": "selected-phenomenon",
   "metadata": {},
   "outputs": [],
   "source": [
    "#keras.utils.plot_model(modela, \"my_model_graph.png\", show_shapes=True)"
   ]
  },
  {
   "cell_type": "code",
   "execution_count": 140,
   "id": "simple-percentage",
   "metadata": {},
   "outputs": [
    {
     "name": "stdout",
     "output_type": "stream",
     "text": [
      "Epoch 1/40\n",
      "44/44 [==============================] - 277s 6s/step - loss: 0.5786 - categorical_accuracy: 0.8037 - val_loss: 1.0054 - val_categorical_accuracy: 0.5188\n",
      "\n",
      "Epoch 00001: val_loss improved from inf to 1.00542, saving model to /home/jianhaozhang/Capstone/Model/Group1\n",
      "INFO:tensorflow:Assets written to: /home/jianhaozhang/Capstone/Model/Group1/assets\n",
      "Epoch 2/40\n",
      "44/44 [==============================] - 31s 706ms/step - loss: 0.4518 - categorical_accuracy: 0.8058 - val_loss: 0.7265 - val_categorical_accuracy: 0.5516\n",
      "\n",
      "Epoch 00002: val_loss improved from 1.00542 to 0.72648, saving model to /home/jianhaozhang/Capstone/Model/Group1\n",
      "INFO:tensorflow:Assets written to: /home/jianhaozhang/Capstone/Model/Group1/assets\n",
      "Epoch 3/40\n",
      "44/44 [==============================] - 31s 705ms/step - loss: 0.5044 - categorical_accuracy: 0.7526 - val_loss: 0.6294 - val_categorical_accuracy: 0.5941\n",
      "\n",
      "Epoch 00003: val_loss improved from 0.72648 to 0.62939, saving model to /home/jianhaozhang/Capstone/Model/Group1\n",
      "INFO:tensorflow:Assets written to: /home/jianhaozhang/Capstone/Model/Group1/assets\n",
      "Epoch 4/40\n",
      "44/44 [==============================] - 31s 705ms/step - loss: 0.5189 - categorical_accuracy: 0.7320 - val_loss: 0.5792 - val_categorical_accuracy: 0.6367\n",
      "\n",
      "Epoch 00004: val_loss improved from 0.62939 to 0.57916, saving model to /home/jianhaozhang/Capstone/Model/Group1\n",
      "INFO:tensorflow:Assets written to: /home/jianhaozhang/Capstone/Model/Group1/assets\n",
      "Epoch 5/40\n",
      "44/44 [==============================] - 31s 705ms/step - loss: 0.5009 - categorical_accuracy: 0.7397 - val_loss: 0.5392 - val_categorical_accuracy: 0.6645\n",
      "\n",
      "Epoch 00005: val_loss improved from 0.57916 to 0.53924, saving model to /home/jianhaozhang/Capstone/Model/Group1\n",
      "INFO:tensorflow:Assets written to: /home/jianhaozhang/Capstone/Model/Group1/assets\n",
      "Epoch 6/40\n",
      "44/44 [==============================] - 31s 706ms/step - loss: 0.4771 - categorical_accuracy: 0.7465 - val_loss: 0.5081 - val_categorical_accuracy: 0.6874\n",
      "\n",
      "Epoch 00006: val_loss improved from 0.53924 to 0.50812, saving model to /home/jianhaozhang/Capstone/Model/Group1\n",
      "INFO:tensorflow:Assets written to: /home/jianhaozhang/Capstone/Model/Group1/assets\n",
      "Epoch 7/40\n",
      "44/44 [==============================] - 31s 707ms/step - loss: 0.4377 - categorical_accuracy: 0.7741 - val_loss: 0.4817 - val_categorical_accuracy: 0.7185\n",
      "\n",
      "Epoch 00007: val_loss improved from 0.50812 to 0.48171, saving model to /home/jianhaozhang/Capstone/Model/Group1\n",
      "INFO:tensorflow:Assets written to: /home/jianhaozhang/Capstone/Model/Group1/assets\n",
      "Epoch 8/40\n",
      "44/44 [==============================] - 31s 706ms/step - loss: 0.4157 - categorical_accuracy: 0.7887 - val_loss: 0.4626 - val_categorical_accuracy: 0.7365\n",
      "\n",
      "Epoch 00008: val_loss improved from 0.48171 to 0.46263, saving model to /home/jianhaozhang/Capstone/Model/Group1\n",
      "INFO:tensorflow:Assets written to: /home/jianhaozhang/Capstone/Model/Group1/assets\n",
      "Epoch 9/40\n",
      "44/44 [==============================] - 31s 706ms/step - loss: 0.3949 - categorical_accuracy: 0.7975 - val_loss: 0.4451 - val_categorical_accuracy: 0.7561\n",
      "\n",
      "Epoch 00009: val_loss improved from 0.46263 to 0.44510, saving model to /home/jianhaozhang/Capstone/Model/Group1\n",
      "INFO:tensorflow:Assets written to: /home/jianhaozhang/Capstone/Model/Group1/assets\n",
      "Epoch 10/40\n",
      "44/44 [==============================] - 31s 706ms/step - loss: 0.3643 - categorical_accuracy: 0.8167 - val_loss: 0.4301 - val_categorical_accuracy: 0.7840\n",
      "\n",
      "Epoch 00010: val_loss improved from 0.44510 to 0.43014, saving model to /home/jianhaozhang/Capstone/Model/Group1\n",
      "INFO:tensorflow:Assets written to: /home/jianhaozhang/Capstone/Model/Group1/assets\n",
      "Epoch 11/40\n",
      "44/44 [==============================] - 31s 707ms/step - loss: 0.3456 - categorical_accuracy: 0.8226 - val_loss: 0.4180 - val_categorical_accuracy: 0.7971\n",
      "\n",
      "Epoch 00011: val_loss improved from 0.43014 to 0.41798, saving model to /home/jianhaozhang/Capstone/Model/Group1\n",
      "INFO:tensorflow:Assets written to: /home/jianhaozhang/Capstone/Model/Group1/assets\n",
      "Epoch 12/40\n",
      "44/44 [==============================] - 31s 705ms/step - loss: 0.3434 - categorical_accuracy: 0.8307 - val_loss: 0.4083 - val_categorical_accuracy: 0.8036\n",
      "\n",
      "Epoch 00012: val_loss improved from 0.41798 to 0.40834, saving model to /home/jianhaozhang/Capstone/Model/Group1\n",
      "INFO:tensorflow:Assets written to: /home/jianhaozhang/Capstone/Model/Group1/assets\n",
      "Epoch 13/40\n",
      "44/44 [==============================] - 31s 706ms/step - loss: 0.3237 - categorical_accuracy: 0.8371 - val_loss: 0.3997 - val_categorical_accuracy: 0.8118\n",
      "\n",
      "Epoch 00013: val_loss improved from 0.40834 to 0.39972, saving model to /home/jianhaozhang/Capstone/Model/Group1\n",
      "INFO:tensorflow:Assets written to: /home/jianhaozhang/Capstone/Model/Group1/assets\n",
      "Epoch 14/40\n",
      "44/44 [==============================] - 31s 706ms/step - loss: 0.3048 - categorical_accuracy: 0.8515 - val_loss: 0.3939 - val_categorical_accuracy: 0.8118\n",
      "\n",
      "Epoch 00014: val_loss improved from 0.39972 to 0.39395, saving model to /home/jianhaozhang/Capstone/Model/Group1\n",
      "INFO:tensorflow:Assets written to: /home/jianhaozhang/Capstone/Model/Group1/assets\n",
      "Epoch 15/40\n",
      "44/44 [==============================] - 31s 707ms/step - loss: 0.2940 - categorical_accuracy: 0.8608 - val_loss: 0.3907 - val_categorical_accuracy: 0.8151\n",
      "\n",
      "Epoch 00015: val_loss improved from 0.39395 to 0.39074, saving model to /home/jianhaozhang/Capstone/Model/Group1\n",
      "INFO:tensorflow:Assets written to: /home/jianhaozhang/Capstone/Model/Group1/assets\n",
      "Epoch 16/40\n",
      "44/44 [==============================] - 31s 705ms/step - loss: 0.2921 - categorical_accuracy: 0.8651 - val_loss: 0.3855 - val_categorical_accuracy: 0.8151\n",
      "\n",
      "Epoch 00016: val_loss improved from 0.39074 to 0.38548, saving model to /home/jianhaozhang/Capstone/Model/Group1\n",
      "INFO:tensorflow:Assets written to: /home/jianhaozhang/Capstone/Model/Group1/assets\n",
      "Epoch 17/40\n",
      "44/44 [==============================] - 31s 706ms/step - loss: 0.2741 - categorical_accuracy: 0.8688 - val_loss: 0.3822 - val_categorical_accuracy: 0.8151\n",
      "\n",
      "Epoch 00017: val_loss improved from 0.38548 to 0.38221, saving model to /home/jianhaozhang/Capstone/Model/Group1\n",
      "INFO:tensorflow:Assets written to: /home/jianhaozhang/Capstone/Model/Group1/assets\n",
      "Epoch 18/40\n",
      "44/44 [==============================] - 31s 706ms/step - loss: 0.2724 - categorical_accuracy: 0.8691 - val_loss: 0.3788 - val_categorical_accuracy: 0.8183\n",
      "\n",
      "Epoch 00018: val_loss improved from 0.38221 to 0.37877, saving model to /home/jianhaozhang/Capstone/Model/Group1\n",
      "INFO:tensorflow:Assets written to: /home/jianhaozhang/Capstone/Model/Group1/assets\n",
      "Epoch 19/40\n",
      "44/44 [==============================] - 31s 706ms/step - loss: 0.2564 - categorical_accuracy: 0.8827 - val_loss: 0.3753 - val_categorical_accuracy: 0.8200\n",
      "\n",
      "Epoch 00019: val_loss improved from 0.37877 to 0.37527, saving model to /home/jianhaozhang/Capstone/Model/Group1\n",
      "INFO:tensorflow:Assets written to: /home/jianhaozhang/Capstone/Model/Group1/assets\n",
      "Epoch 20/40\n",
      "44/44 [==============================] - 31s 705ms/step - loss: 0.2535 - categorical_accuracy: 0.8885 - val_loss: 0.3714 - val_categorical_accuracy: 0.8200\n",
      "\n",
      "Epoch 00020: val_loss improved from 0.37527 to 0.37137, saving model to /home/jianhaozhang/Capstone/Model/Group1\n",
      "INFO:tensorflow:Assets written to: /home/jianhaozhang/Capstone/Model/Group1/assets\n",
      "Epoch 21/40\n",
      "44/44 [==============================] - 31s 706ms/step - loss: 0.2394 - categorical_accuracy: 0.8899 - val_loss: 0.3714 - val_categorical_accuracy: 0.8249\n",
      "\n",
      "Epoch 00021: val_loss improved from 0.37137 to 0.37136, saving model to /home/jianhaozhang/Capstone/Model/Group1\n",
      "INFO:tensorflow:Assets written to: /home/jianhaozhang/Capstone/Model/Group1/assets\n",
      "Epoch 22/40\n",
      "44/44 [==============================] - 31s 706ms/step - loss: 0.2402 - categorical_accuracy: 0.8931 - val_loss: 0.3694 - val_categorical_accuracy: 0.8298\n",
      "\n",
      "Epoch 00022: val_loss improved from 0.37136 to 0.36937, saving model to /home/jianhaozhang/Capstone/Model/Group1\n",
      "INFO:tensorflow:Assets written to: /home/jianhaozhang/Capstone/Model/Group1/assets\n",
      "Epoch 23/40\n",
      "44/44 [==============================] - 31s 706ms/step - loss: 0.2353 - categorical_accuracy: 0.8959 - val_loss: 0.3680 - val_categorical_accuracy: 0.8314\n",
      "\n",
      "Epoch 00023: val_loss improved from 0.36937 to 0.36804, saving model to /home/jianhaozhang/Capstone/Model/Group1\n"
     ]
    },
    {
     "name": "stdout",
     "output_type": "stream",
     "text": [
      "INFO:tensorflow:Assets written to: /home/jianhaozhang/Capstone/Model/Group1/assets\n",
      "Epoch 24/40\n",
      "44/44 [==============================] - 31s 705ms/step - loss: 0.2277 - categorical_accuracy: 0.8961 - val_loss: 0.3662 - val_categorical_accuracy: 0.8331\n",
      "\n",
      "Epoch 00024: val_loss improved from 0.36804 to 0.36617, saving model to /home/jianhaozhang/Capstone/Model/Group1\n",
      "INFO:tensorflow:Assets written to: /home/jianhaozhang/Capstone/Model/Group1/assets\n",
      "Epoch 25/40\n",
      "44/44 [==============================] - 31s 706ms/step - loss: 0.2184 - categorical_accuracy: 0.9029 - val_loss: 0.3647 - val_categorical_accuracy: 0.8347\n",
      "\n",
      "Epoch 00025: val_loss improved from 0.36617 to 0.36474, saving model to /home/jianhaozhang/Capstone/Model/Group1\n",
      "INFO:tensorflow:Assets written to: /home/jianhaozhang/Capstone/Model/Group1/assets\n",
      "Epoch 26/40\n",
      "44/44 [==============================] - 31s 706ms/step - loss: 0.2145 - categorical_accuracy: 0.9065 - val_loss: 0.3625 - val_categorical_accuracy: 0.8363\n",
      "\n",
      "Epoch 00026: val_loss improved from 0.36474 to 0.36247, saving model to /home/jianhaozhang/Capstone/Model/Group1\n",
      "INFO:tensorflow:Assets written to: /home/jianhaozhang/Capstone/Model/Group1/assets\n",
      "Epoch 27/40\n",
      "44/44 [==============================] - 31s 706ms/step - loss: 0.2075 - categorical_accuracy: 0.9095 - val_loss: 0.3646 - val_categorical_accuracy: 0.8363\n",
      "\n",
      "Epoch 00027: val_loss did not improve from 0.36247\n",
      "Epoch 28/40\n",
      "44/44 [==============================] - 31s 710ms/step - loss: 0.2126 - categorical_accuracy: 0.9077 - val_loss: 0.3666 - val_categorical_accuracy: 0.8396\n",
      "\n",
      "Epoch 00028: val_loss did not improve from 0.36247\n",
      "Epoch 29/40\n",
      "44/44 [==============================] - 31s 706ms/step - loss: 0.1939 - categorical_accuracy: 0.9155 - val_loss: 0.3658 - val_categorical_accuracy: 0.8429\n",
      "\n",
      "Epoch 00029: val_loss did not improve from 0.36247\n",
      "Epoch 30/40\n",
      "44/44 [==============================] - 31s 707ms/step - loss: 0.1930 - categorical_accuracy: 0.9113 - val_loss: 0.3675 - val_categorical_accuracy: 0.8429\n",
      "\n",
      "Epoch 00030: val_loss did not improve from 0.36247\n",
      "Epoch 31/40\n",
      "44/44 [==============================] - 31s 707ms/step - loss: 0.1850 - categorical_accuracy: 0.9243 - val_loss: 0.3679 - val_categorical_accuracy: 0.8396\n",
      "\n",
      "Epoch 00031: val_loss did not improve from 0.36247\n",
      "Epoch 32/40\n",
      "44/44 [==============================] - 31s 706ms/step - loss: 0.1861 - categorical_accuracy: 0.9154 - val_loss: 0.3686 - val_categorical_accuracy: 0.8412\n",
      "\n",
      "Epoch 00032: val_loss did not improve from 0.36247\n",
      "Epoch 33/40\n",
      "44/44 [==============================] - 31s 707ms/step - loss: 0.1839 - categorical_accuracy: 0.9247 - val_loss: 0.3717 - val_categorical_accuracy: 0.8412\n",
      "\n",
      "Epoch 00033: val_loss did not improve from 0.36247\n",
      "Epoch 34/40\n",
      "44/44 [==============================] - 31s 707ms/step - loss: 0.1714 - categorical_accuracy: 0.9277 - val_loss: 0.3753 - val_categorical_accuracy: 0.8412\n",
      "\n",
      "Epoch 00034: val_loss did not improve from 0.36247\n",
      "Epoch 35/40\n",
      "44/44 [==============================] - 31s 706ms/step - loss: 0.1725 - categorical_accuracy: 0.9268 - val_loss: 0.3770 - val_categorical_accuracy: 0.8462\n",
      "\n",
      "Epoch 00035: val_loss did not improve from 0.36247\n",
      "Epoch 36/40\n",
      "44/44 [==============================] - 31s 709ms/step - loss: 0.1684 - categorical_accuracy: 0.9280 - val_loss: 0.3778 - val_categorical_accuracy: 0.8478\n",
      "\n",
      "Epoch 00036: val_loss did not improve from 0.36247\n",
      "Epoch 37/40\n",
      "44/44 [==============================] - 31s 706ms/step - loss: 0.1594 - categorical_accuracy: 0.9319 - val_loss: 0.3771 - val_categorical_accuracy: 0.8445\n",
      "\n",
      "Epoch 00037: val_loss did not improve from 0.36247\n",
      "Epoch 38/40\n",
      "44/44 [==============================] - 31s 706ms/step - loss: 0.1547 - categorical_accuracy: 0.9343 - val_loss: 0.3815 - val_categorical_accuracy: 0.8429\n",
      "\n",
      "Epoch 00038: val_loss did not improve from 0.36247\n",
      "Epoch 39/40\n",
      "44/44 [==============================] - 31s 707ms/step - loss: 0.1560 - categorical_accuracy: 0.9350 - val_loss: 0.3810 - val_categorical_accuracy: 0.8445\n",
      "\n",
      "Epoch 00039: val_loss did not improve from 0.36247\n",
      "Epoch 40/40\n",
      "44/44 [==============================] - 31s 706ms/step - loss: 0.1482 - categorical_accuracy: 0.9395 - val_loss: 0.3866 - val_categorical_accuracy: 0.8412\n",
      "\n",
      "Epoch 00040: val_loss did not improve from 0.36247\n"
     ]
    }
   ],
   "source": [
    "checkpoint_filepath = '/home/jianhaozhang/Capstone/Model/Group1'\n",
    "model_checkpoint_callback = tf.keras.callbacks.ModelCheckpoint(\n",
    "    filepath=checkpoint_filepath,\n",
    "    save_weights_only=False,\n",
    "    verbose=1,\n",
    "    monitor='val_loss',\n",
    "    mode='min',\n",
    "    save_best_only=True)\n",
    "\n",
    "history1 = model1.fit(train_data1, epochs=epochs,batch_size=batch_size,validation_data=val_data1,shuffle=True,\n",
    "                   callbacks=model_checkpoint_callback)"
   ]
  },
  {
   "cell_type": "code",
   "execution_count": 143,
   "id": "varying-express",
   "metadata": {},
   "outputs": [
    {
     "data": {
      "image/png": "[encoded data removed]",
      "text/plain": [
       "<Figure size 1440x576 with 2 Axes>"
      ]
     },
     "metadata": {
      "needs_background": "light"
     },
     "output_type": "display_data"
    }
   ],
   "source": [
    "draw_learning_curve(history1,checkpoint_filepath)"
   ]
  },
  {
   "cell_type": "code",
   "execution_count": 145,
   "id": "satisfied-salmon",
   "metadata": {},
   "outputs": [
    {
     "name": "stdout",
     "output_type": "stream",
     "text": [
      "44/44 [==============================] - 9s 207ms/step - loss: 0.1353 - categorical_accuracy: 0.9490\n",
      "5/5 [==============================] - 1s 197ms/step - loss: 0.3866 - categorical_accuracy: 0.8412\n",
      "9/9 [==============================] - 43s 5s/step - loss: 0.2730 - categorical_accuracy: 0.8844\n"
     ]
    }
   ],
   "source": [
    "#model 1 summarized results\n",
    "train_loss1, train_acc1 = model1.evaluate(train_data1)\n",
    "val_loss1, val_acc1 = model1.evaluate(val_data1)\n",
    "test_loss1, test_acc1 = model1.evaluate(test_data1)\n",
    "\n",
    "Model1 = \"Group1\"\n",
    "results = pd.DataFrame(columns = ['Model', 'Train-Loss', 'Train-Accuracy','Val-Loss','Val-Accuracy','Test-Loss','Test-Accuracy'])\n",
    "row1 = [Model1, train_loss1, train_acc1*100,val_loss1,val_acc1*100,test_loss1, test_acc1*100]\n",
    "results = results.append(pd.DataFrame([row1], columns=results.columns), ignore_index=True)"
   ]
  },
  {
   "cell_type": "markdown",
   "id": "brief-allah",
   "metadata": {},
   "source": [
    "## Group 2 "
   ]
  },
  {
   "cell_type": "code",
   "execution_count": 84,
   "id": "gorgeous-petite",
   "metadata": {},
   "outputs": [],
   "source": [
    "model2=generate_model(group2)"
   ]
  },
  {
   "cell_type": "code",
   "execution_count": 86,
   "id": "simplified-accuracy",
   "metadata": {},
   "outputs": [
    {
     "name": "stdout",
     "output_type": "stream",
     "text": [
      "Epoch 1/40\n",
      "84/84 [==============================] - 71s 717ms/step - loss: 0.8471 - categorical_accuracy: 0.5665 - val_loss: 0.7094 - val_categorical_accuracy: 0.6407\n",
      "\n",
      "Epoch 00001: val_loss improved from inf to 0.70939, saving model to /home/jianhaozhang/Capstone/Model/Group2\n",
      "INFO:tensorflow:Assets written to: /home/jianhaozhang/Capstone/Model/Group2/assets\n",
      "Epoch 2/40\n",
      "84/84 [==============================] - 59s 706ms/step - loss: 0.5953 - categorical_accuracy: 0.6990 - val_loss: 0.6165 - val_categorical_accuracy: 0.7030\n",
      "\n",
      "Epoch 00002: val_loss improved from 0.70939 to 0.61653, saving model to /home/jianhaozhang/Capstone/Model/Group2\n",
      "INFO:tensorflow:Assets written to: /home/jianhaozhang/Capstone/Model/Group2/assets\n",
      "Epoch 3/40\n",
      "84/84 [==============================] - 59s 707ms/step - loss: 0.4627 - categorical_accuracy: 0.7733 - val_loss: 0.5221 - val_categorical_accuracy: 0.7535\n",
      "\n",
      "Epoch 00003: val_loss improved from 0.61653 to 0.52208, saving model to /home/jianhaozhang/Capstone/Model/Group2\n",
      "INFO:tensorflow:Assets written to: /home/jianhaozhang/Capstone/Model/Group2/assets\n",
      "Epoch 4/40\n",
      "84/84 [==============================] - 59s 707ms/step - loss: 0.3708 - categorical_accuracy: 0.8336 - val_loss: 0.4469 - val_categorical_accuracy: 0.7869\n",
      "\n",
      "Epoch 00004: val_loss improved from 0.52208 to 0.44686, saving model to /home/jianhaozhang/Capstone/Model/Group2\n",
      "INFO:tensorflow:Assets written to: /home/jianhaozhang/Capstone/Model/Group2/assets\n",
      "Epoch 5/40\n",
      "84/84 [==============================] - 59s 707ms/step - loss: 0.3114 - categorical_accuracy: 0.8647 - val_loss: 0.3977 - val_categorical_accuracy: 0.8142\n",
      "\n",
      "Epoch 00005: val_loss improved from 0.44686 to 0.39774, saving model to /home/jianhaozhang/Capstone/Model/Group2\n",
      "INFO:tensorflow:Assets written to: /home/jianhaozhang/Capstone/Model/Group2/assets\n",
      "Epoch 6/40\n",
      "84/84 [==============================] - 59s 706ms/step - loss: 0.2750 - categorical_accuracy: 0.8828 - val_loss: 0.3584 - val_categorical_accuracy: 0.8437\n",
      "\n",
      "Epoch 00006: val_loss improved from 0.39774 to 0.35837, saving model to /home/jianhaozhang/Capstone/Model/Group2\n",
      "INFO:tensorflow:Assets written to: /home/jianhaozhang/Capstone/Model/Group2/assets\n",
      "Epoch 7/40\n",
      "84/84 [==============================] - 59s 707ms/step - loss: 0.2454 - categorical_accuracy: 0.8989 - val_loss: 0.3349 - val_categorical_accuracy: 0.8546\n",
      "\n",
      "Epoch 00007: val_loss improved from 0.35837 to 0.33490, saving model to /home/jianhaozhang/Capstone/Model/Group2\n",
      "INFO:tensorflow:Assets written to: /home/jianhaozhang/Capstone/Model/Group2/assets\n",
      "Epoch 8/40\n",
      "84/84 [==============================] - 59s 706ms/step - loss: 0.2195 - categorical_accuracy: 0.9131 - val_loss: 0.3282 - val_categorical_accuracy: 0.8577\n",
      "\n",
      "Epoch 00008: val_loss improved from 0.33490 to 0.32816, saving model to /home/jianhaozhang/Capstone/Model/Group2\n",
      "INFO:tensorflow:Assets written to: /home/jianhaozhang/Capstone/Model/Group2/assets\n",
      "Epoch 9/40\n",
      "84/84 [==============================] - 59s 706ms/step - loss: 0.2164 - categorical_accuracy: 0.9153 - val_loss: 0.3058 - val_categorical_accuracy: 0.8694\n",
      "\n",
      "Epoch 00009: val_loss improved from 0.32816 to 0.30577, saving model to /home/jianhaozhang/Capstone/Model/Group2\n",
      "INFO:tensorflow:Assets written to: /home/jianhaozhang/Capstone/Model/Group2/assets\n",
      "Epoch 10/40\n",
      "84/84 [==============================] - 59s 707ms/step - loss: 0.2009 - categorical_accuracy: 0.9235 - val_loss: 0.2975 - val_categorical_accuracy: 0.8764\n",
      "\n",
      "Epoch 00010: val_loss improved from 0.30577 to 0.29746, saving model to /home/jianhaozhang/Capstone/Model/Group2\n",
      "INFO:tensorflow:Assets written to: /home/jianhaozhang/Capstone/Model/Group2/assets\n",
      "Epoch 11/40\n",
      "84/84 [==============================] - 59s 707ms/step - loss: 0.1904 - categorical_accuracy: 0.9260 - val_loss: 0.3016 - val_categorical_accuracy: 0.8771\n",
      "\n",
      "Epoch 00011: val_loss did not improve from 0.29746\n",
      "Epoch 12/40\n",
      "84/84 [==============================] - 59s 706ms/step - loss: 0.1934 - categorical_accuracy: 0.9235 - val_loss: 0.2859 - val_categorical_accuracy: 0.8787\n",
      "\n",
      "Epoch 00012: val_loss improved from 0.29746 to 0.28590, saving model to /home/jianhaozhang/Capstone/Model/Group2\n",
      "INFO:tensorflow:Assets written to: /home/jianhaozhang/Capstone/Model/Group2/assets\n",
      "Epoch 13/40\n",
      "84/84 [==============================] - 59s 707ms/step - loss: 0.1867 - categorical_accuracy: 0.9296 - val_loss: 0.2835 - val_categorical_accuracy: 0.8841\n",
      "\n",
      "Epoch 00013: val_loss improved from 0.28590 to 0.28350, saving model to /home/jianhaozhang/Capstone/Model/Group2\n",
      "INFO:tensorflow:Assets written to: /home/jianhaozhang/Capstone/Model/Group2/assets\n",
      "Epoch 14/40\n",
      "84/84 [==============================] - 59s 706ms/step - loss: 0.1731 - categorical_accuracy: 0.9365 - val_loss: 0.2957 - val_categorical_accuracy: 0.8826\n",
      "\n",
      "Epoch 00014: val_loss did not improve from 0.28350\n",
      "Epoch 15/40\n",
      "84/84 [==============================] - 59s 706ms/step - loss: 0.1776 - categorical_accuracy: 0.9327 - val_loss: 0.2988 - val_categorical_accuracy: 0.8841\n",
      "\n",
      "Epoch 00015: val_loss did not improve from 0.28350\n",
      "Epoch 16/40\n",
      "84/84 [==============================] - 59s 706ms/step - loss: 0.1747 - categorical_accuracy: 0.9345 - val_loss: 0.3172 - val_categorical_accuracy: 0.8756\n",
      "\n",
      "Epoch 00016: val_loss did not improve from 0.28350\n",
      "Epoch 17/40\n",
      "84/84 [==============================] - 59s 706ms/step - loss: 0.1766 - categorical_accuracy: 0.9330 - val_loss: 0.3471 - val_categorical_accuracy: 0.8569\n",
      "\n",
      "Epoch 00017: val_loss did not improve from 0.28350\n",
      "Epoch 18/40\n",
      "84/84 [==============================] - 59s 705ms/step - loss: 0.1917 - categorical_accuracy: 0.9242 - val_loss: 0.3584 - val_categorical_accuracy: 0.8460\n",
      "\n",
      "Epoch 00018: val_loss did not improve from 0.28350\n",
      "Epoch 19/40\n",
      "84/84 [==============================] - 59s 706ms/step - loss: 0.1889 - categorical_accuracy: 0.9255 - val_loss: 0.3999 - val_categorical_accuracy: 0.8258\n",
      "\n",
      "Epoch 00019: val_loss did not improve from 0.28350\n",
      "Epoch 20/40\n",
      "84/84 [==============================] - 59s 706ms/step - loss: 0.2011 - categorical_accuracy: 0.9190 - val_loss: 0.4343 - val_categorical_accuracy: 0.8110\n",
      "\n",
      "Epoch 00020: val_loss did not improve from 0.28350\n",
      "Epoch 21/40\n",
      "84/84 [==============================] - 59s 706ms/step - loss: 0.2075 - categorical_accuracy: 0.9223 - val_loss: 0.4872 - val_categorical_accuracy: 0.7869\n",
      "\n",
      "Epoch 00021: val_loss did not improve from 0.28350\n",
      "Epoch 22/40\n",
      "84/84 [==============================] - 59s 705ms/step - loss: 0.2100 - categorical_accuracy: 0.9142 - val_loss: 0.5393 - val_categorical_accuracy: 0.7683\n",
      "\n",
      "Epoch 00022: val_loss did not improve from 0.28350\n",
      "Epoch 23/40\n",
      "84/84 [==============================] - 59s 706ms/step - loss: 0.2312 - categorical_accuracy: 0.9123 - val_loss: 0.5836 - val_categorical_accuracy: 0.7481\n",
      "\n",
      "Epoch 00023: val_loss did not improve from 0.28350\n",
      "Restoring model weights from the end of the best epoch.\n",
      "Epoch 00023: early stopping\n"
     ]
    }
   ],
   "source": [
    "checkpoint_filepath = '/home/jianhaozhang/Capstone/Model/Group2'\n",
    "model_checkpoint_callback = tf.keras.callbacks.ModelCheckpoint(\n",
    "    filepath=checkpoint_filepath,\n",
    "    save_weights_only=False,\n",
    "    verbose=1,\n",
    "    monitor='val_loss',\n",
    "    mode='min',\n",
    "    save_best_only=True)\n",
    "\n",
    "history2 = model2.fit(train_data2, epochs=epochs,batch_size=batch_size,validation_data=val_data2,shuffle=True,\n",
    "                   callbacks=[model_checkpoint_callback,model_earlystop_callback])"
   ]
  },
  {
   "cell_type": "code",
   "execution_count": 88,
   "id": "occasional-smile",
   "metadata": {},
   "outputs": [
    {
     "data": {
      "image/png": "[encoded data removed]",
      "text/plain": [
       "<Figure size 1440x576 with 2 Axes>"
      ]
     },
     "metadata": {
      "needs_background": "light"
     },
     "output_type": "display_data"
    }
   ],
   "source": [
    "draw_learning_curve(history2,checkpoint_filepath)"
   ]
  },
  {
   "cell_type": "code",
   "execution_count": 89,
   "id": "loved-daniel",
   "metadata": {},
   "outputs": [
    {
     "name": "stdout",
     "output_type": "stream",
     "text": [
      "84/84 [==============================] - 17s 206ms/step - loss: 0.1914 - categorical_accuracy: 0.9231\n",
      "11/11 [==============================] - 2s 189ms/step - loss: 0.2835 - categorical_accuracy: 0.8841\n",
      "17/17 [==============================] - 67s 4s/step - loss: 0.1884 - categorical_accuracy: 0.9284\n"
     ]
    }
   ],
   "source": [
    "#model 2 summarized results\n",
    "train_loss2, train_acc2 = model2.evaluate(train_data2)\n",
    "val_loss2, val_acc2 = model2.evaluate(val_data2)\n",
    "test_loss2, test_acc2 = model2.evaluate(test_data2)\n",
    "\n",
    "Model2 = \"Group2\"\n",
    "row2 = [Model2, train_loss2, train_acc2*100,val_loss2,val_acc2*100,test_loss2, test_acc2*100]\n",
    "results = results.append(pd.DataFrame([row2], columns=results.columns), ignore_index=True)"
   ]
  },
  {
   "cell_type": "markdown",
   "id": "right-buffer",
   "metadata": {},
   "source": [
    "## Group 3 "
   ]
  },
  {
   "cell_type": "code",
   "execution_count": 92,
   "id": "signal-recipe",
   "metadata": {},
   "outputs": [],
   "source": [
    "model3=generate_model(group3)"
   ]
  },
  {
   "cell_type": "code",
   "execution_count": 93,
   "id": "proprietary-monaco",
   "metadata": {},
   "outputs": [
    {
     "name": "stdout",
     "output_type": "stream",
     "text": [
      "Epoch 1/40\n",
      "53/53 [==============================] - 249s 5s/step - loss: 1.3743 - categorical_accuracy: 0.3728 - val_loss: 0.9103 - val_categorical_accuracy: 0.5803\n",
      "\n",
      "Epoch 00001: val_loss improved from inf to 0.91035, saving model to /home/jianhaozhang/Capstone/Model/Group3\n",
      "INFO:tensorflow:Assets written to: /home/jianhaozhang/Capstone/Model/Group3/assets\n",
      "Epoch 2/40\n",
      "53/53 [==============================] - 38s 708ms/step - loss: 0.8235 - categorical_accuracy: 0.6368 - val_loss: 0.6610 - val_categorical_accuracy: 0.7352\n",
      "\n",
      "Epoch 00002: val_loss improved from 0.91035 to 0.66103, saving model to /home/jianhaozhang/Capstone/Model/Group3\n",
      "INFO:tensorflow:Assets written to: /home/jianhaozhang/Capstone/Model/Group3/assets\n",
      "Epoch 3/40\n",
      "53/53 [==============================] - 38s 708ms/step - loss: 0.6188 - categorical_accuracy: 0.7541 - val_loss: 0.5093 - val_categorical_accuracy: 0.8085\n",
      "\n",
      "Epoch 00003: val_loss improved from 0.66103 to 0.50927, saving model to /home/jianhaozhang/Capstone/Model/Group3\n",
      "INFO:tensorflow:Assets written to: /home/jianhaozhang/Capstone/Model/Group3/assets\n",
      "Epoch 4/40\n",
      "53/53 [==============================] - 38s 709ms/step - loss: 0.4877 - categorical_accuracy: 0.8102 - val_loss: 0.4138 - val_categorical_accuracy: 0.8437\n",
      "\n",
      "Epoch 00004: val_loss improved from 0.50927 to 0.41380, saving model to /home/jianhaozhang/Capstone/Model/Group3\n",
      "INFO:tensorflow:Assets written to: /home/jianhaozhang/Capstone/Model/Group3/assets\n",
      "Epoch 5/40\n",
      "53/53 [==============================] - 38s 709ms/step - loss: 0.4254 - categorical_accuracy: 0.8376 - val_loss: 0.3522 - val_categorical_accuracy: 0.8732\n",
      "\n",
      "Epoch 00005: val_loss improved from 0.41380 to 0.35218, saving model to /home/jianhaozhang/Capstone/Model/Group3\n",
      "INFO:tensorflow:Assets written to: /home/jianhaozhang/Capstone/Model/Group3/assets\n",
      "Epoch 6/40\n",
      "53/53 [==============================] - 38s 708ms/step - loss: 0.3717 - categorical_accuracy: 0.8556 - val_loss: 0.3134 - val_categorical_accuracy: 0.8831\n",
      "\n",
      "Epoch 00006: val_loss improved from 0.35218 to 0.31337, saving model to /home/jianhaozhang/Capstone/Model/Group3\n",
      "INFO:tensorflow:Assets written to: /home/jianhaozhang/Capstone/Model/Group3/assets\n",
      "Epoch 7/40\n",
      "53/53 [==============================] - 38s 708ms/step - loss: 0.3506 - categorical_accuracy: 0.8665 - val_loss: 0.2862 - val_categorical_accuracy: 0.9014\n",
      "\n",
      "Epoch 00007: val_loss improved from 0.31337 to 0.28620, saving model to /home/jianhaozhang/Capstone/Model/Group3\n",
      "INFO:tensorflow:Assets written to: /home/jianhaozhang/Capstone/Model/Group3/assets\n",
      "Epoch 8/40\n",
      "53/53 [==============================] - 38s 708ms/step - loss: 0.3203 - categorical_accuracy: 0.8809 - val_loss: 0.2667 - val_categorical_accuracy: 0.9070\n",
      "\n",
      "Epoch 00008: val_loss improved from 0.28620 to 0.26670, saving model to /home/jianhaozhang/Capstone/Model/Group3\n",
      "INFO:tensorflow:Assets written to: /home/jianhaozhang/Capstone/Model/Group3/assets\n",
      "Epoch 9/40\n",
      "53/53 [==============================] - 38s 709ms/step - loss: 0.3005 - categorical_accuracy: 0.8933 - val_loss: 0.2511 - val_categorical_accuracy: 0.9141\n",
      "\n",
      "Epoch 00009: val_loss improved from 0.26670 to 0.25107, saving model to /home/jianhaozhang/Capstone/Model/Group3\n",
      "INFO:tensorflow:Assets written to: /home/jianhaozhang/Capstone/Model/Group3/assets\n",
      "Epoch 10/40\n",
      "53/53 [==============================] - 38s 708ms/step - loss: 0.2785 - categorical_accuracy: 0.8977 - val_loss: 0.2398 - val_categorical_accuracy: 0.9197\n",
      "\n",
      "Epoch 00010: val_loss improved from 0.25107 to 0.23981, saving model to /home/jianhaozhang/Capstone/Model/Group3\n",
      "INFO:tensorflow:Assets written to: /home/jianhaozhang/Capstone/Model/Group3/assets\n",
      "Epoch 11/40\n",
      "53/53 [==============================] - 38s 709ms/step - loss: 0.2597 - categorical_accuracy: 0.9037 - val_loss: 0.2309 - val_categorical_accuracy: 0.9211\n",
      "\n",
      "Epoch 00011: val_loss improved from 0.23981 to 0.23092, saving model to /home/jianhaozhang/Capstone/Model/Group3\n",
      "INFO:tensorflow:Assets written to: /home/jianhaozhang/Capstone/Model/Group3/assets\n",
      "Epoch 12/40\n",
      "53/53 [==============================] - 38s 708ms/step - loss: 0.2522 - categorical_accuracy: 0.9116 - val_loss: 0.2223 - val_categorical_accuracy: 0.9268\n",
      "\n",
      "Epoch 00012: val_loss improved from 0.23092 to 0.22226, saving model to /home/jianhaozhang/Capstone/Model/Group3\n",
      "INFO:tensorflow:Assets written to: /home/jianhaozhang/Capstone/Model/Group3/assets\n",
      "Epoch 13/40\n",
      "53/53 [==============================] - 38s 710ms/step - loss: 0.2320 - categorical_accuracy: 0.9185 - val_loss: 0.2161 - val_categorical_accuracy: 0.9310\n",
      "\n",
      "Epoch 00013: val_loss improved from 0.22226 to 0.21611, saving model to /home/jianhaozhang/Capstone/Model/Group3\n",
      "INFO:tensorflow:Assets written to: /home/jianhaozhang/Capstone/Model/Group3/assets\n",
      "Epoch 14/40\n",
      "53/53 [==============================] - 38s 709ms/step - loss: 0.2348 - categorical_accuracy: 0.9177 - val_loss: 0.2108 - val_categorical_accuracy: 0.9338\n",
      "\n",
      "Epoch 00014: val_loss improved from 0.21611 to 0.21082, saving model to /home/jianhaozhang/Capstone/Model/Group3\n",
      "INFO:tensorflow:Assets written to: /home/jianhaozhang/Capstone/Model/Group3/assets\n",
      "Epoch 15/40\n",
      "53/53 [==============================] - 38s 709ms/step - loss: 0.2199 - categorical_accuracy: 0.9201 - val_loss: 0.2057 - val_categorical_accuracy: 0.9366\n",
      "\n",
      "Epoch 00015: val_loss improved from 0.21082 to 0.20575, saving model to /home/jianhaozhang/Capstone/Model/Group3\n",
      "INFO:tensorflow:Assets written to: /home/jianhaozhang/Capstone/Model/Group3/assets\n",
      "Epoch 16/40\n",
      "53/53 [==============================] - 38s 708ms/step - loss: 0.2162 - categorical_accuracy: 0.9270 - val_loss: 0.2014 - val_categorical_accuracy: 0.9366\n",
      "\n",
      "Epoch 00016: val_loss improved from 0.20575 to 0.20144, saving model to /home/jianhaozhang/Capstone/Model/Group3\n",
      "INFO:tensorflow:Assets written to: /home/jianhaozhang/Capstone/Model/Group3/assets\n",
      "Epoch 17/40\n",
      "53/53 [==============================] - 38s 709ms/step - loss: 0.2119 - categorical_accuracy: 0.9262 - val_loss: 0.1983 - val_categorical_accuracy: 0.9366\n",
      "\n",
      "Epoch 00017: val_loss improved from 0.20144 to 0.19830, saving model to /home/jianhaozhang/Capstone/Model/Group3\n",
      "INFO:tensorflow:Assets written to: /home/jianhaozhang/Capstone/Model/Group3/assets\n",
      "Epoch 18/40\n",
      "53/53 [==============================] - 38s 708ms/step - loss: 0.2081 - categorical_accuracy: 0.9247 - val_loss: 0.1939 - val_categorical_accuracy: 0.9338\n",
      "\n",
      "Epoch 00018: val_loss improved from 0.19830 to 0.19393, saving model to /home/jianhaozhang/Capstone/Model/Group3\n",
      "INFO:tensorflow:Assets written to: /home/jianhaozhang/Capstone/Model/Group3/assets\n",
      "Epoch 19/40\n",
      "53/53 [==============================] - 38s 708ms/step - loss: 0.1982 - categorical_accuracy: 0.9327 - val_loss: 0.1913 - val_categorical_accuracy: 0.9366\n",
      "\n",
      "Epoch 00019: val_loss improved from 0.19393 to 0.19134, saving model to /home/jianhaozhang/Capstone/Model/Group3\n",
      "INFO:tensorflow:Assets written to: /home/jianhaozhang/Capstone/Model/Group3/assets\n",
      "Epoch 20/40\n",
      "53/53 [==============================] - 38s 708ms/step - loss: 0.1914 - categorical_accuracy: 0.9352 - val_loss: 0.1893 - val_categorical_accuracy: 0.9380\n",
      "\n",
      "Epoch 00020: val_loss improved from 0.19134 to 0.18932, saving model to /home/jianhaozhang/Capstone/Model/Group3\n",
      "INFO:tensorflow:Assets written to: /home/jianhaozhang/Capstone/Model/Group3/assets\n",
      "Epoch 21/40\n",
      "53/53 [==============================] - 38s 709ms/step - loss: 0.1829 - categorical_accuracy: 0.9373 - val_loss: 0.1863 - val_categorical_accuracy: 0.9380\n",
      "\n",
      "Epoch 00021: val_loss improved from 0.18932 to 0.18625, saving model to /home/jianhaozhang/Capstone/Model/Group3\n",
      "INFO:tensorflow:Assets written to: /home/jianhaozhang/Capstone/Model/Group3/assets\n",
      "Epoch 22/40\n",
      "53/53 [==============================] - 38s 709ms/step - loss: 0.1713 - categorical_accuracy: 0.9395 - val_loss: 0.1842 - val_categorical_accuracy: 0.9408\n",
      "\n",
      "Epoch 00022: val_loss improved from 0.18625 to 0.18415, saving model to /home/jianhaozhang/Capstone/Model/Group3\n",
      "INFO:tensorflow:Assets written to: /home/jianhaozhang/Capstone/Model/Group3/assets\n",
      "Epoch 23/40\n",
      "53/53 [==============================] - 38s 709ms/step - loss: 0.1725 - categorical_accuracy: 0.9406 - val_loss: 0.1822 - val_categorical_accuracy: 0.9380\n",
      "\n",
      "Epoch 00023: val_loss improved from 0.18415 to 0.18222, saving model to /home/jianhaozhang/Capstone/Model/Group3\n"
     ]
    },
    {
     "name": "stdout",
     "output_type": "stream",
     "text": [
      "INFO:tensorflow:Assets written to: /home/jianhaozhang/Capstone/Model/Group3/assets\n",
      "Epoch 24/40\n",
      "53/53 [==============================] - 38s 708ms/step - loss: 0.1648 - categorical_accuracy: 0.9446 - val_loss: 0.1803 - val_categorical_accuracy: 0.9394\n",
      "\n",
      "Epoch 00024: val_loss improved from 0.18222 to 0.18030, saving model to /home/jianhaozhang/Capstone/Model/Group3\n",
      "INFO:tensorflow:Assets written to: /home/jianhaozhang/Capstone/Model/Group3/assets\n",
      "Epoch 25/40\n",
      "53/53 [==============================] - 38s 709ms/step - loss: 0.1624 - categorical_accuracy: 0.9473 - val_loss: 0.1792 - val_categorical_accuracy: 0.9394\n",
      "\n",
      "Epoch 00025: val_loss improved from 0.18030 to 0.17924, saving model to /home/jianhaozhang/Capstone/Model/Group3\n",
      "INFO:tensorflow:Assets written to: /home/jianhaozhang/Capstone/Model/Group3/assets\n",
      "Epoch 26/40\n",
      "53/53 [==============================] - 38s 709ms/step - loss: 0.1572 - categorical_accuracy: 0.9452 - val_loss: 0.1785 - val_categorical_accuracy: 0.9408\n",
      "\n",
      "Epoch 00026: val_loss improved from 0.17924 to 0.17848, saving model to /home/jianhaozhang/Capstone/Model/Group3\n",
      "INFO:tensorflow:Assets written to: /home/jianhaozhang/Capstone/Model/Group3/assets\n",
      "Epoch 27/40\n",
      "53/53 [==============================] - 38s 709ms/step - loss: 0.1579 - categorical_accuracy: 0.9466 - val_loss: 0.1756 - val_categorical_accuracy: 0.9408\n",
      "\n",
      "Epoch 00027: val_loss improved from 0.17848 to 0.17557, saving model to /home/jianhaozhang/Capstone/Model/Group3\n",
      "INFO:tensorflow:Assets written to: /home/jianhaozhang/Capstone/Model/Group3/assets\n",
      "Epoch 28/40\n",
      "53/53 [==============================] - 38s 709ms/step - loss: 0.1411 - categorical_accuracy: 0.9485 - val_loss: 0.1748 - val_categorical_accuracy: 0.9408\n",
      "\n",
      "Epoch 00028: val_loss improved from 0.17557 to 0.17482, saving model to /home/jianhaozhang/Capstone/Model/Group3\n",
      "INFO:tensorflow:Assets written to: /home/jianhaozhang/Capstone/Model/Group3/assets\n",
      "Epoch 29/40\n",
      "53/53 [==============================] - 38s 710ms/step - loss: 0.1318 - categorical_accuracy: 0.9526 - val_loss: 0.1746 - val_categorical_accuracy: 0.9437\n",
      "\n",
      "Epoch 00029: val_loss improved from 0.17482 to 0.17460, saving model to /home/jianhaozhang/Capstone/Model/Group3\n",
      "INFO:tensorflow:Assets written to: /home/jianhaozhang/Capstone/Model/Group3/assets\n",
      "Epoch 30/40\n",
      "53/53 [==============================] - 38s 709ms/step - loss: 0.1405 - categorical_accuracy: 0.9491 - val_loss: 0.1747 - val_categorical_accuracy: 0.9451\n",
      "\n",
      "Epoch 00030: val_loss did not improve from 0.17460\n",
      "Epoch 31/40\n",
      "53/53 [==============================] - 38s 708ms/step - loss: 0.1311 - categorical_accuracy: 0.9548 - val_loss: 0.1744 - val_categorical_accuracy: 0.9465\n",
      "\n",
      "Epoch 00031: val_loss improved from 0.17460 to 0.17437, saving model to /home/jianhaozhang/Capstone/Model/Group3\n",
      "INFO:tensorflow:Assets written to: /home/jianhaozhang/Capstone/Model/Group3/assets\n",
      "Epoch 32/40\n",
      "53/53 [==============================] - 38s 709ms/step - loss: 0.1252 - categorical_accuracy: 0.9567 - val_loss: 0.1736 - val_categorical_accuracy: 0.9479\n",
      "\n",
      "Epoch 00032: val_loss improved from 0.17437 to 0.17359, saving model to /home/jianhaozhang/Capstone/Model/Group3\n",
      "INFO:tensorflow:Assets written to: /home/jianhaozhang/Capstone/Model/Group3/assets\n",
      "Epoch 33/40\n",
      "53/53 [==============================] - 38s 709ms/step - loss: 0.1216 - categorical_accuracy: 0.9564 - val_loss: 0.1751 - val_categorical_accuracy: 0.9479\n",
      "\n",
      "Epoch 00033: val_loss did not improve from 0.17359\n",
      "Epoch 34/40\n",
      "53/53 [==============================] - 38s 710ms/step - loss: 0.1185 - categorical_accuracy: 0.9568 - val_loss: 0.1741 - val_categorical_accuracy: 0.9465\n",
      "\n",
      "Epoch 00034: val_loss did not improve from 0.17359\n",
      "Epoch 35/40\n",
      "53/53 [==============================] - 38s 709ms/step - loss: 0.1228 - categorical_accuracy: 0.9548 - val_loss: 0.1753 - val_categorical_accuracy: 0.9465\n",
      "\n",
      "Epoch 00035: val_loss did not improve from 0.17359\n",
      "Epoch 36/40\n",
      "53/53 [==============================] - 38s 710ms/step - loss: 0.1163 - categorical_accuracy: 0.9581 - val_loss: 0.1746 - val_categorical_accuracy: 0.9465\n",
      "\n",
      "Epoch 00036: val_loss did not improve from 0.17359\n",
      "Epoch 37/40\n",
      "53/53 [==============================] - 38s 709ms/step - loss: 0.1125 - categorical_accuracy: 0.9596 - val_loss: 0.1760 - val_categorical_accuracy: 0.9465\n",
      "\n",
      "Epoch 00037: val_loss did not improve from 0.17359\n",
      "Restoring model weights from the end of the best epoch.\n",
      "Epoch 00037: early stopping\n"
     ]
    }
   ],
   "source": [
    "checkpoint_filepath = '/home/jianhaozhang/Capstone/Model/Group3'\n",
    "model_checkpoint_callback = tf.keras.callbacks.ModelCheckpoint(\n",
    "    filepath=checkpoint_filepath,\n",
    "    save_weights_only=False,\n",
    "    verbose=1,\n",
    "    monitor='val_loss',\n",
    "    mode='min',\n",
    "    save_best_only=True)\n",
    "\n",
    "history3 = model3.fit(train_data3, epochs=epochs,batch_size=batch_size,validation_data=val_data3,shuffle=True,\n",
    "                   callbacks=[model_checkpoint_callback,model_earlystop_callback])"
   ]
  },
  {
   "cell_type": "code",
   "execution_count": 94,
   "id": "novel-aberdeen",
   "metadata": {},
   "outputs": [
    {
     "data": {
      "image/png": "[encoded data removed]",
      "text/plain": [
       "<Figure size 1440x576 with 2 Axes>"
      ]
     },
     "metadata": {
      "needs_background": "light"
     },
     "output_type": "display_data"
    }
   ],
   "source": [
    "draw_learning_curve(history3,checkpoint_filepath)"
   ]
  },
  {
   "cell_type": "code",
   "execution_count": 95,
   "id": "varying-climate",
   "metadata": {},
   "outputs": [
    {
     "name": "stdout",
     "output_type": "stream",
     "text": [
      "53/53 [==============================] - 11s 207ms/step - loss: 0.1026 - categorical_accuracy: 0.9657\n",
      "6/6 [==============================] - 1s 189ms/step - loss: 0.1736 - categorical_accuracy: 0.9479\n",
      "11/11 [==============================] - 46s 4s/step - loss: 0.1887 - categorical_accuracy: 0.9470\n"
     ]
    }
   ],
   "source": [
    "#model 3 summarized results\n",
    "train_loss3, train_acc3 = model3.evaluate(train_data3)\n",
    "val_loss3, val_acc3 = model3.evaluate(val_data3)\n",
    "test_loss3, test_acc3 = model3.evaluate(test_data3)\n",
    "\n",
    "Model3 = \"Group3\"\n",
    "row3 = [Model3, train_loss3, train_acc3*100,val_loss3,val_acc3*100,test_loss3, test_acc3*100]\n",
    "results = results.append(pd.DataFrame([row3], columns=results.columns), ignore_index=True)"
   ]
  },
  {
   "cell_type": "markdown",
   "id": "dedicated-calculator",
   "metadata": {},
   "source": [
    "## Group 4 "
   ]
  },
  {
   "cell_type": "code",
   "execution_count": 98,
   "id": "medieval-delivery",
   "metadata": {},
   "outputs": [],
   "source": [
    "model4=generate_model(group4)"
   ]
  },
  {
   "cell_type": "code",
   "execution_count": 99,
   "id": "ordered-preparation",
   "metadata": {},
   "outputs": [
    {
     "name": "stdout",
     "output_type": "stream",
     "text": [
      "Epoch 1/40\n",
      "84/84 [==============================] - 350s 4s/step - loss: 1.2347 - categorical_accuracy: 0.5270 - val_loss: 1.1169 - val_categorical_accuracy: 0.5543\n",
      "\n",
      "Epoch 00001: val_loss improved from inf to 1.11688, saving model to /home/jianhaozhang/Capstone/Model/Group4\n",
      "INFO:tensorflow:Assets written to: /home/jianhaozhang/Capstone/Model/Group4/assets\n",
      "Epoch 2/40\n",
      "84/84 [==============================] - 59s 706ms/step - loss: 0.9790 - categorical_accuracy: 0.6131 - val_loss: 0.8971 - val_categorical_accuracy: 0.6676\n",
      "\n",
      "Epoch 00002: val_loss improved from 1.11688 to 0.89710, saving model to /home/jianhaozhang/Capstone/Model/Group4\n",
      "INFO:tensorflow:Assets written to: /home/jianhaozhang/Capstone/Model/Group4/assets\n",
      "Epoch 3/40\n",
      "84/84 [==============================] - 59s 705ms/step - loss: 0.8565 - categorical_accuracy: 0.6534 - val_loss: 0.7663 - val_categorical_accuracy: 0.7215\n",
      "\n",
      "Epoch 00003: val_loss improved from 0.89710 to 0.76628, saving model to /home/jianhaozhang/Capstone/Model/Group4\n",
      "INFO:tensorflow:Assets written to: /home/jianhaozhang/Capstone/Model/Group4/assets\n",
      "Epoch 4/40\n",
      "84/84 [==============================] - 59s 704ms/step - loss: 0.7429 - categorical_accuracy: 0.7050 - val_loss: 0.6746 - val_categorical_accuracy: 0.7489\n",
      "\n",
      "Epoch 00004: val_loss improved from 0.76628 to 0.67456, saving model to /home/jianhaozhang/Capstone/Model/Group4\n",
      "INFO:tensorflow:Assets written to: /home/jianhaozhang/Capstone/Model/Group4/assets\n",
      "Epoch 5/40\n",
      "84/84 [==============================] - 59s 705ms/step - loss: 0.6657 - categorical_accuracy: 0.7306 - val_loss: 0.6057 - val_categorical_accuracy: 0.7726\n",
      "\n",
      "Epoch 00005: val_loss improved from 0.67456 to 0.60569, saving model to /home/jianhaozhang/Capstone/Model/Group4\n",
      "INFO:tensorflow:Assets written to: /home/jianhaozhang/Capstone/Model/Group4/assets\n",
      "Epoch 6/40\n",
      "84/84 [==============================] - 59s 705ms/step - loss: 0.6276 - categorical_accuracy: 0.7498 - val_loss: 0.5570 - val_categorical_accuracy: 0.7954\n",
      "\n",
      "Epoch 00006: val_loss improved from 0.60569 to 0.55696, saving model to /home/jianhaozhang/Capstone/Model/Group4\n",
      "INFO:tensorflow:Assets written to: /home/jianhaozhang/Capstone/Model/Group4/assets\n",
      "Epoch 7/40\n",
      "84/84 [==============================] - 59s 705ms/step - loss: 0.5771 - categorical_accuracy: 0.7752 - val_loss: 0.5151 - val_categorical_accuracy: 0.8110\n",
      "\n",
      "Epoch 00007: val_loss improved from 0.55696 to 0.51507, saving model to /home/jianhaozhang/Capstone/Model/Group4\n",
      "INFO:tensorflow:Assets written to: /home/jianhaozhang/Capstone/Model/Group4/assets\n",
      "Epoch 8/40\n",
      "84/84 [==============================] - 59s 704ms/step - loss: 0.5421 - categorical_accuracy: 0.7893 - val_loss: 0.4846 - val_categorical_accuracy: 0.8320\n",
      "\n",
      "Epoch 00008: val_loss improved from 0.51507 to 0.48459, saving model to /home/jianhaozhang/Capstone/Model/Group4\n",
      "INFO:tensorflow:Assets written to: /home/jianhaozhang/Capstone/Model/Group4/assets\n",
      "Epoch 9/40\n",
      "84/84 [==============================] - 59s 705ms/step - loss: 0.5270 - categorical_accuracy: 0.7920 - val_loss: 0.4568 - val_categorical_accuracy: 0.8447\n",
      "\n",
      "Epoch 00009: val_loss improved from 0.48459 to 0.45680, saving model to /home/jianhaozhang/Capstone/Model/Group4\n",
      "INFO:tensorflow:Assets written to: /home/jianhaozhang/Capstone/Model/Group4/assets\n",
      "Epoch 10/40\n",
      "84/84 [==============================] - 59s 705ms/step - loss: 0.5111 - categorical_accuracy: 0.8010 - val_loss: 0.4381 - val_categorical_accuracy: 0.8511\n",
      "\n",
      "Epoch 00010: val_loss improved from 0.45680 to 0.43811, saving model to /home/jianhaozhang/Capstone/Model/Group4\n",
      "INFO:tensorflow:Assets written to: /home/jianhaozhang/Capstone/Model/Group4/assets\n",
      "Epoch 11/40\n",
      "84/84 [==============================] - 59s 705ms/step - loss: 0.4881 - categorical_accuracy: 0.8132 - val_loss: 0.4218 - val_categorical_accuracy: 0.8566\n",
      "\n",
      "Epoch 00011: val_loss improved from 0.43811 to 0.42185, saving model to /home/jianhaozhang/Capstone/Model/Group4\n",
      "INFO:tensorflow:Assets written to: /home/jianhaozhang/Capstone/Model/Group4/assets\n",
      "Epoch 12/40\n",
      "84/84 [==============================] - 59s 705ms/step - loss: 0.4728 - categorical_accuracy: 0.8164 - val_loss: 0.4096 - val_categorical_accuracy: 0.8603\n",
      "\n",
      "Epoch 00012: val_loss improved from 0.42185 to 0.40963, saving model to /home/jianhaozhang/Capstone/Model/Group4\n",
      "INFO:tensorflow:Assets written to: /home/jianhaozhang/Capstone/Model/Group4/assets\n",
      "Epoch 13/40\n",
      "84/84 [==============================] - 59s 705ms/step - loss: 0.4535 - categorical_accuracy: 0.8284 - val_loss: 0.3972 - val_categorical_accuracy: 0.8603\n",
      "\n",
      "Epoch 00013: val_loss improved from 0.40963 to 0.39721, saving model to /home/jianhaozhang/Capstone/Model/Group4\n",
      "INFO:tensorflow:Assets written to: /home/jianhaozhang/Capstone/Model/Group4/assets\n",
      "Epoch 14/40\n",
      "84/84 [==============================] - 59s 705ms/step - loss: 0.4473 - categorical_accuracy: 0.8347 - val_loss: 0.3868 - val_categorical_accuracy: 0.8676\n",
      "\n",
      "Epoch 00014: val_loss improved from 0.39721 to 0.38679, saving model to /home/jianhaozhang/Capstone/Model/Group4\n",
      "INFO:tensorflow:Assets written to: /home/jianhaozhang/Capstone/Model/Group4/assets\n",
      "Epoch 15/40\n",
      "84/84 [==============================] - 59s 705ms/step - loss: 0.4324 - categorical_accuracy: 0.8365 - val_loss: 0.3784 - val_categorical_accuracy: 0.8685\n",
      "\n",
      "Epoch 00015: val_loss improved from 0.38679 to 0.37840, saving model to /home/jianhaozhang/Capstone/Model/Group4\n",
      "INFO:tensorflow:Assets written to: /home/jianhaozhang/Capstone/Model/Group4/assets\n",
      "Epoch 16/40\n",
      "84/84 [==============================] - 59s 705ms/step - loss: 0.4247 - categorical_accuracy: 0.8390 - val_loss: 0.3705 - val_categorical_accuracy: 0.8703\n",
      "\n",
      "Epoch 00016: val_loss improved from 0.37840 to 0.37051, saving model to /home/jianhaozhang/Capstone/Model/Group4\n",
      "INFO:tensorflow:Assets written to: /home/jianhaozhang/Capstone/Model/Group4/assets\n",
      "Epoch 17/40\n",
      "84/84 [==============================] - 59s 704ms/step - loss: 0.4039 - categorical_accuracy: 0.8472 - val_loss: 0.3627 - val_categorical_accuracy: 0.8740\n",
      "\n",
      "Epoch 00017: val_loss improved from 0.37051 to 0.36272, saving model to /home/jianhaozhang/Capstone/Model/Group4\n",
      "INFO:tensorflow:Assets written to: /home/jianhaozhang/Capstone/Model/Group4/assets\n",
      "Epoch 18/40\n",
      "84/84 [==============================] - 59s 704ms/step - loss: 0.3920 - categorical_accuracy: 0.8533 - val_loss: 0.3569 - val_categorical_accuracy: 0.8767\n",
      "\n",
      "Epoch 00018: val_loss improved from 0.36272 to 0.35690, saving model to /home/jianhaozhang/Capstone/Model/Group4\n",
      "INFO:tensorflow:Assets written to: /home/jianhaozhang/Capstone/Model/Group4/assets\n",
      "Epoch 19/40\n",
      "84/84 [==============================] - 59s 705ms/step - loss: 0.3896 - categorical_accuracy: 0.8561 - val_loss: 0.3526 - val_categorical_accuracy: 0.8758\n",
      "\n",
      "Epoch 00019: val_loss improved from 0.35690 to 0.35264, saving model to /home/jianhaozhang/Capstone/Model/Group4\n",
      "INFO:tensorflow:Assets written to: /home/jianhaozhang/Capstone/Model/Group4/assets\n",
      "Epoch 20/40\n",
      "84/84 [==============================] - 59s 705ms/step - loss: 0.3800 - categorical_accuracy: 0.8628 - val_loss: 0.3473 - val_categorical_accuracy: 0.8776\n",
      "\n",
      "Epoch 00020: val_loss improved from 0.35264 to 0.34734, saving model to /home/jianhaozhang/Capstone/Model/Group4\n",
      "INFO:tensorflow:Assets written to: /home/jianhaozhang/Capstone/Model/Group4/assets\n",
      "Epoch 21/40\n",
      "84/84 [==============================] - 59s 705ms/step - loss: 0.3724 - categorical_accuracy: 0.8634 - val_loss: 0.3435 - val_categorical_accuracy: 0.8767\n",
      "\n",
      "Epoch 00021: val_loss improved from 0.34734 to 0.34350, saving model to /home/jianhaozhang/Capstone/Model/Group4\n",
      "INFO:tensorflow:Assets written to: /home/jianhaozhang/Capstone/Model/Group4/assets\n",
      "Epoch 22/40\n",
      "84/84 [==============================] - 59s 705ms/step - loss: 0.3714 - categorical_accuracy: 0.8635 - val_loss: 0.3412 - val_categorical_accuracy: 0.8785\n",
      "\n",
      "Epoch 00022: val_loss improved from 0.34350 to 0.34122, saving model to /home/jianhaozhang/Capstone/Model/Group4\n",
      "INFO:tensorflow:Assets written to: /home/jianhaozhang/Capstone/Model/Group4/assets\n",
      "Epoch 23/40\n",
      "84/84 [==============================] - 59s 705ms/step - loss: 0.3635 - categorical_accuracy: 0.8623 - val_loss: 0.3399 - val_categorical_accuracy: 0.8758\n",
      "\n",
      "Epoch 00023: val_loss improved from 0.34122 to 0.33987, saving model to /home/jianhaozhang/Capstone/Model/Group4\n"
     ]
    },
    {
     "name": "stdout",
     "output_type": "stream",
     "text": [
      "INFO:tensorflow:Assets written to: /home/jianhaozhang/Capstone/Model/Group4/assets\n",
      "Epoch 24/40\n",
      "84/84 [==============================] - 59s 705ms/step - loss: 0.3552 - categorical_accuracy: 0.8672 - val_loss: 0.3338 - val_categorical_accuracy: 0.8785\n",
      "\n",
      "Epoch 00024: val_loss improved from 0.33987 to 0.33380, saving model to /home/jianhaozhang/Capstone/Model/Group4\n",
      "INFO:tensorflow:Assets written to: /home/jianhaozhang/Capstone/Model/Group4/assets\n",
      "Epoch 25/40\n",
      "84/84 [==============================] - 59s 705ms/step - loss: 0.3496 - categorical_accuracy: 0.8722 - val_loss: 0.3322 - val_categorical_accuracy: 0.8767\n",
      "\n",
      "Epoch 00025: val_loss improved from 0.33380 to 0.33224, saving model to /home/jianhaozhang/Capstone/Model/Group4\n",
      "INFO:tensorflow:Assets written to: /home/jianhaozhang/Capstone/Model/Group4/assets\n",
      "Epoch 26/40\n",
      "84/84 [==============================] - 59s 705ms/step - loss: 0.3455 - categorical_accuracy: 0.8771 - val_loss: 0.3324 - val_categorical_accuracy: 0.8758\n",
      "\n",
      "Epoch 00026: val_loss did not improve from 0.33224\n",
      "Epoch 27/40\n",
      "84/84 [==============================] - 59s 705ms/step - loss: 0.3400 - categorical_accuracy: 0.8785 - val_loss: 0.3322 - val_categorical_accuracy: 0.8749\n",
      "\n",
      "Epoch 00027: val_loss improved from 0.33224 to 0.33222, saving model to /home/jianhaozhang/Capstone/Model/Group4\n",
      "INFO:tensorflow:Assets written to: /home/jianhaozhang/Capstone/Model/Group4/assets\n",
      "Epoch 28/40\n",
      "84/84 [==============================] - 59s 705ms/step - loss: 0.3402 - categorical_accuracy: 0.8791 - val_loss: 0.3315 - val_categorical_accuracy: 0.8767\n",
      "\n",
      "Epoch 00028: val_loss improved from 0.33222 to 0.33150, saving model to /home/jianhaozhang/Capstone/Model/Group4\n",
      "INFO:tensorflow:Assets written to: /home/jianhaozhang/Capstone/Model/Group4/assets\n",
      "Epoch 29/40\n",
      "84/84 [==============================] - 59s 705ms/step - loss: 0.3331 - categorical_accuracy: 0.8851 - val_loss: 0.3305 - val_categorical_accuracy: 0.8813\n",
      "\n",
      "Epoch 00029: val_loss improved from 0.33150 to 0.33045, saving model to /home/jianhaozhang/Capstone/Model/Group4\n",
      "INFO:tensorflow:Assets written to: /home/jianhaozhang/Capstone/Model/Group4/assets\n",
      "Epoch 30/40\n",
      "84/84 [==============================] - 59s 705ms/step - loss: 0.3311 - categorical_accuracy: 0.8833 - val_loss: 0.3300 - val_categorical_accuracy: 0.8776\n",
      "\n",
      "Epoch 00030: val_loss improved from 0.33045 to 0.33004, saving model to /home/jianhaozhang/Capstone/Model/Group4\n",
      "INFO:tensorflow:Assets written to: /home/jianhaozhang/Capstone/Model/Group4/assets\n",
      "Epoch 31/40\n",
      "84/84 [==============================] - 59s 705ms/step - loss: 0.3368 - categorical_accuracy: 0.8825 - val_loss: 0.3269 - val_categorical_accuracy: 0.8767\n",
      "\n",
      "Epoch 00031: val_loss improved from 0.33004 to 0.32687, saving model to /home/jianhaozhang/Capstone/Model/Group4\n",
      "INFO:tensorflow:Assets written to: /home/jianhaozhang/Capstone/Model/Group4/assets\n",
      "Epoch 32/40\n",
      "84/84 [==============================] - 59s 705ms/step - loss: 0.3253 - categorical_accuracy: 0.8882 - val_loss: 0.3230 - val_categorical_accuracy: 0.8795\n",
      "\n",
      "Epoch 00032: val_loss improved from 0.32687 to 0.32304, saving model to /home/jianhaozhang/Capstone/Model/Group4\n",
      "INFO:tensorflow:Assets written to: /home/jianhaozhang/Capstone/Model/Group4/assets\n",
      "Epoch 33/40\n",
      "84/84 [==============================] - 59s 705ms/step - loss: 0.3301 - categorical_accuracy: 0.8871 - val_loss: 0.3266 - val_categorical_accuracy: 0.8758\n",
      "\n",
      "Epoch 00033: val_loss did not improve from 0.32304\n",
      "Epoch 34/40\n",
      "84/84 [==============================] - 59s 707ms/step - loss: 0.3232 - categorical_accuracy: 0.8888 - val_loss: 0.3266 - val_categorical_accuracy: 0.8740\n",
      "\n",
      "Epoch 00034: val_loss did not improve from 0.32304\n",
      "Epoch 35/40\n",
      "84/84 [==============================] - 59s 708ms/step - loss: 0.3197 - categorical_accuracy: 0.8922 - val_loss: 0.3269 - val_categorical_accuracy: 0.8740\n",
      "\n",
      "Epoch 00035: val_loss did not improve from 0.32304\n",
      "Epoch 36/40\n",
      "84/84 [==============================] - 60s 709ms/step - loss: 0.3241 - categorical_accuracy: 0.8908 - val_loss: 0.3237 - val_categorical_accuracy: 0.8776\n",
      "\n",
      "Epoch 00036: val_loss did not improve from 0.32304\n",
      "Epoch 37/40\n",
      "84/84 [==============================] - 59s 705ms/step - loss: 0.3208 - categorical_accuracy: 0.8920 - val_loss: 0.3217 - val_categorical_accuracy: 0.8767\n",
      "\n",
      "Epoch 00037: val_loss improved from 0.32304 to 0.32173, saving model to /home/jianhaozhang/Capstone/Model/Group4\n",
      "INFO:tensorflow:Assets written to: /home/jianhaozhang/Capstone/Model/Group4/assets\n",
      "Epoch 38/40\n",
      "84/84 [==============================] - 59s 705ms/step - loss: 0.3079 - categorical_accuracy: 0.8983 - val_loss: 0.3205 - val_categorical_accuracy: 0.8785\n",
      "\n",
      "Epoch 00038: val_loss improved from 0.32173 to 0.32054, saving model to /home/jianhaozhang/Capstone/Model/Group4\n",
      "INFO:tensorflow:Assets written to: /home/jianhaozhang/Capstone/Model/Group4/assets\n",
      "Epoch 39/40\n",
      "84/84 [==============================] - 59s 704ms/step - loss: 0.3074 - categorical_accuracy: 0.8972 - val_loss: 0.3243 - val_categorical_accuracy: 0.8767\n",
      "\n",
      "Epoch 00039: val_loss did not improve from 0.32054\n",
      "Epoch 40/40\n",
      "84/84 [==============================] - 59s 708ms/step - loss: 0.3188 - categorical_accuracy: 0.8981 - val_loss: 0.3220 - val_categorical_accuracy: 0.8767\n",
      "\n",
      "Epoch 00040: val_loss did not improve from 0.32054\n"
     ]
    }
   ],
   "source": [
    "checkpoint_filepath = '/home/jianhaozhang/Capstone/Model/Group4'\n",
    "model_checkpoint_callback = tf.keras.callbacks.ModelCheckpoint(\n",
    "    filepath=checkpoint_filepath,\n",
    "    save_weights_only=False,\n",
    "    verbose=1,\n",
    "    monitor='val_loss',\n",
    "    mode='min',\n",
    "    save_best_only=True)\n",
    "\n",
    "history4 = model4.fit(train_data4, epochs=epochs,batch_size=batch_size,validation_data=val_data4,shuffle=True,\n",
    "                   callbacks=[model_checkpoint_callback,model_earlystop_callback])"
   ]
  },
  {
   "cell_type": "code",
   "execution_count": 100,
   "id": "sacred-advice",
   "metadata": {},
   "outputs": [
    {
     "data": {
      "image/png": "[encoded data removed]",
      "text/plain": [
       "<Figure size 1440x576 with 2 Axes>"
      ]
     },
     "metadata": {
      "needs_background": "light"
     },
     "output_type": "display_data"
    }
   ],
   "source": [
    "draw_learning_curve(history4,checkpoint_filepath)"
   ]
  },
  {
   "cell_type": "code",
   "execution_count": 101,
   "id": "confidential-sight",
   "metadata": {},
   "outputs": [
    {
     "name": "stdout",
     "output_type": "stream",
     "text": [
      "84/84 [==============================] - 18s 207ms/step - loss: 0.3681 - categorical_accuracy: 0.8621\n",
      "9/9 [==============================] - 2s 198ms/step - loss: 0.3220 - categorical_accuracy: 0.8767\n",
      "16/16 [==============================] - 65s 4s/step - loss: 0.4863 - categorical_accuracy: 0.8165\n"
     ]
    }
   ],
   "source": [
    "#model 4 summarized results\n",
    "train_loss4, train_acc4 = model4.evaluate(train_data4)\n",
    "val_loss4, val_acc4 = model4.evaluate(val_data4)\n",
    "test_loss4, test_acc4 = model4.evaluate(test_data4)\n",
    "\n",
    "Model4 = \"Group4\"\n",
    "row4 = [Model4, train_loss4, train_acc4*100,val_loss4,val_acc4*100,test_loss4, test_acc4*100]\n",
    "results = results.append(pd.DataFrame([row4], columns=results.columns), ignore_index=True)"
   ]
  },
  {
   "cell_type": "markdown",
   "id": "skilled-wednesday",
   "metadata": {},
   "source": [
    "## Full Label"
   ]
  },
  {
   "cell_type": "code",
   "execution_count": 76,
   "id": "orange-matrix",
   "metadata": {},
   "outputs": [],
   "source": [
    "model6=generate_model(group6)"
   ]
  },
  {
   "cell_type": "code",
   "execution_count": 77,
   "id": "greek-cheat",
   "metadata": {},
   "outputs": [
    {
     "name": "stdout",
     "output_type": "stream",
     "text": [
      "Epoch 1/40\n",
      "106/106 [==============================] - 458s 4s/step - loss: 2.7944 - categorical_accuracy: 0.0625 - val_loss: 2.1923 - val_categorical_accuracy: 0.1388\n",
      "\n",
      "Epoch 00001: val_loss improved from inf to 2.19228, saving model to /home/jianhaozhang/Capstone/Model/Group6\n",
      "INFO:tensorflow:Assets written to: /home/jianhaozhang/Capstone/Model/Group6/assets\n",
      "Epoch 2/40\n",
      "106/106 [==============================] - 75s 709ms/step - loss: 2.2521 - categorical_accuracy: 0.1556 - val_loss: 1.9790 - val_categorical_accuracy: 0.2875\n",
      "\n",
      "Epoch 00002: val_loss improved from 2.19228 to 1.97904, saving model to /home/jianhaozhang/Capstone/Model/Group6\n",
      "INFO:tensorflow:Assets written to: /home/jianhaozhang/Capstone/Model/Group6/assets\n",
      "Epoch 3/40\n",
      "106/106 [==============================] - 75s 709ms/step - loss: 1.9479 - categorical_accuracy: 0.3076 - val_loss: 1.8219 - val_categorical_accuracy: 0.4115\n",
      "\n",
      "Epoch 00003: val_loss improved from 1.97904 to 1.82195, saving model to /home/jianhaozhang/Capstone/Model/Group6\n",
      "INFO:tensorflow:Assets written to: /home/jianhaozhang/Capstone/Model/Group6/assets\n",
      "Epoch 4/40\n",
      "106/106 [==============================] - 75s 709ms/step - loss: 1.7125 - categorical_accuracy: 0.4301 - val_loss: 1.6939 - val_categorical_accuracy: 0.4688\n",
      "\n",
      "Epoch 00004: val_loss improved from 1.82195 to 1.69389, saving model to /home/jianhaozhang/Capstone/Model/Group6\n",
      "INFO:tensorflow:Assets written to: /home/jianhaozhang/Capstone/Model/Group6/assets\n",
      "Epoch 5/40\n",
      "106/106 [==============================] - 75s 709ms/step - loss: 1.5274 - categorical_accuracy: 0.5012 - val_loss: 1.5903 - val_categorical_accuracy: 0.5021\n",
      "\n",
      "Epoch 00005: val_loss improved from 1.69389 to 1.59031, saving model to /home/jianhaozhang/Capstone/Model/Group6\n",
      "INFO:tensorflow:Assets written to: /home/jianhaozhang/Capstone/Model/Group6/assets\n",
      "Epoch 6/40\n",
      "106/106 [==============================] - 75s 709ms/step - loss: 1.3757 - categorical_accuracy: 0.5597 - val_loss: 1.5007 - val_categorical_accuracy: 0.5333\n",
      "\n",
      "Epoch 00006: val_loss improved from 1.59031 to 1.50069, saving model to /home/jianhaozhang/Capstone/Model/Group6\n",
      "INFO:tensorflow:Assets written to: /home/jianhaozhang/Capstone/Model/Group6/assets\n",
      "Epoch 7/40\n",
      "106/106 [==============================] - 75s 709ms/step - loss: 1.2470 - categorical_accuracy: 0.5968 - val_loss: 1.4349 - val_categorical_accuracy: 0.5609\n",
      "\n",
      "Epoch 00007: val_loss improved from 1.50069 to 1.43494, saving model to /home/jianhaozhang/Capstone/Model/Group6\n",
      "INFO:tensorflow:Assets written to: /home/jianhaozhang/Capstone/Model/Group6/assets\n",
      "Epoch 8/40\n",
      "106/106 [==============================] - 75s 709ms/step - loss: 1.1737 - categorical_accuracy: 0.6115 - val_loss: 1.3872 - val_categorical_accuracy: 0.5793\n",
      "\n",
      "Epoch 00008: val_loss improved from 1.43494 to 1.38718, saving model to /home/jianhaozhang/Capstone/Model/Group6\n",
      "INFO:tensorflow:Assets written to: /home/jianhaozhang/Capstone/Model/Group6/assets\n",
      "Epoch 9/40\n",
      "106/106 [==============================] - 75s 709ms/step - loss: 1.1084 - categorical_accuracy: 0.6336 - val_loss: 1.3476 - val_categorical_accuracy: 0.5942\n",
      "\n",
      "Epoch 00009: val_loss improved from 1.38718 to 1.34756, saving model to /home/jianhaozhang/Capstone/Model/Group6\n",
      "INFO:tensorflow:Assets written to: /home/jianhaozhang/Capstone/Model/Group6/assets\n",
      "Epoch 10/40\n",
      "106/106 [==============================] - 75s 709ms/step - loss: 1.0485 - categorical_accuracy: 0.6586 - val_loss: 1.3165 - val_categorical_accuracy: 0.6055\n",
      "\n",
      "Epoch 00010: val_loss improved from 1.34756 to 1.31653, saving model to /home/jianhaozhang/Capstone/Model/Group6\n",
      "INFO:tensorflow:Assets written to: /home/jianhaozhang/Capstone/Model/Group6/assets\n",
      "Epoch 11/40\n",
      "106/106 [==============================] - 75s 709ms/step - loss: 1.0175 - categorical_accuracy: 0.6627 - val_loss: 1.2867 - val_categorical_accuracy: 0.6154\n",
      "\n",
      "Epoch 00011: val_loss improved from 1.31653 to 1.28666, saving model to /home/jianhaozhang/Capstone/Model/Group6\n",
      "INFO:tensorflow:Assets written to: /home/jianhaozhang/Capstone/Model/Group6/assets\n",
      "Epoch 12/40\n",
      "106/106 [==============================] - 75s 710ms/step - loss: 0.9727 - categorical_accuracy: 0.6778 - val_loss: 1.2652 - val_categorical_accuracy: 0.6218\n",
      "\n",
      "Epoch 00012: val_loss improved from 1.28666 to 1.26522, saving model to /home/jianhaozhang/Capstone/Model/Group6\n",
      "INFO:tensorflow:Assets written to: /home/jianhaozhang/Capstone/Model/Group6/assets\n",
      "Epoch 13/40\n",
      "106/106 [==============================] - 75s 709ms/step - loss: 0.9338 - categorical_accuracy: 0.6880 - val_loss: 1.2433 - val_categorical_accuracy: 0.6261\n",
      "\n",
      "Epoch 00013: val_loss improved from 1.26522 to 1.24326, saving model to /home/jianhaozhang/Capstone/Model/Group6\n",
      "INFO:tensorflow:Assets written to: /home/jianhaozhang/Capstone/Model/Group6/assets\n",
      "Epoch 14/40\n",
      "106/106 [==============================] - 75s 709ms/step - loss: 0.9016 - categorical_accuracy: 0.6982 - val_loss: 1.2253 - val_categorical_accuracy: 0.6331\n",
      "\n",
      "Epoch 00014: val_loss improved from 1.24326 to 1.22528, saving model to /home/jianhaozhang/Capstone/Model/Group6\n",
      "INFO:tensorflow:Assets written to: /home/jianhaozhang/Capstone/Model/Group6/assets\n",
      "Epoch 15/40\n",
      "106/106 [==============================] - 75s 710ms/step - loss: 0.8777 - categorical_accuracy: 0.7016 - val_loss: 1.2107 - val_categorical_accuracy: 0.6395\n",
      "\n",
      "Epoch 00015: val_loss improved from 1.22528 to 1.21070, saving model to /home/jianhaozhang/Capstone/Model/Group6\n",
      "INFO:tensorflow:Assets written to: /home/jianhaozhang/Capstone/Model/Group6/assets\n",
      "Epoch 16/40\n",
      "106/106 [==============================] - 75s 709ms/step - loss: 0.8559 - categorical_accuracy: 0.7149 - val_loss: 1.1954 - val_categorical_accuracy: 0.6438\n",
      "\n",
      "Epoch 00016: val_loss improved from 1.21070 to 1.19538, saving model to /home/jianhaozhang/Capstone/Model/Group6\n",
      "INFO:tensorflow:Assets written to: /home/jianhaozhang/Capstone/Model/Group6/assets\n",
      "Epoch 17/40\n",
      "106/106 [==============================] - 75s 709ms/step - loss: 0.8471 - categorical_accuracy: 0.7163 - val_loss: 1.1809 - val_categorical_accuracy: 0.6523\n",
      "\n",
      "Epoch 00017: val_loss improved from 1.19538 to 1.18094, saving model to /home/jianhaozhang/Capstone/Model/Group6\n",
      "INFO:tensorflow:Assets written to: /home/jianhaozhang/Capstone/Model/Group6/assets\n",
      "Epoch 18/40\n",
      "106/106 [==============================] - 75s 709ms/step - loss: 0.8185 - categorical_accuracy: 0.7241 - val_loss: 1.1689 - val_categorical_accuracy: 0.6593\n",
      "\n",
      "Epoch 00018: val_loss improved from 1.18094 to 1.16892, saving model to /home/jianhaozhang/Capstone/Model/Group6\n",
      "INFO:tensorflow:Assets written to: /home/jianhaozhang/Capstone/Model/Group6/assets\n",
      "Epoch 19/40\n",
      "106/106 [==============================] - 75s 709ms/step - loss: 0.8124 - categorical_accuracy: 0.7238 - val_loss: 1.1577 - val_categorical_accuracy: 0.6629\n",
      "\n",
      "Epoch 00019: val_loss improved from 1.16892 to 1.15766, saving model to /home/jianhaozhang/Capstone/Model/Group6\n",
      "INFO:tensorflow:Assets written to: /home/jianhaozhang/Capstone/Model/Group6/assets\n",
      "Epoch 20/40\n",
      "106/106 [==============================] - 75s 709ms/step - loss: 0.7812 - categorical_accuracy: 0.7387 - val_loss: 1.1494 - val_categorical_accuracy: 0.6714\n",
      "\n",
      "Epoch 00020: val_loss improved from 1.15766 to 1.14941, saving model to /home/jianhaozhang/Capstone/Model/Group6\n",
      "INFO:tensorflow:Assets written to: /home/jianhaozhang/Capstone/Model/Group6/assets\n",
      "Epoch 21/40\n",
      "106/106 [==============================] - 75s 709ms/step - loss: 0.7726 - categorical_accuracy: 0.7397 - val_loss: 1.1415 - val_categorical_accuracy: 0.6728\n",
      "\n",
      "Epoch 00021: val_loss improved from 1.14941 to 1.14145, saving model to /home/jianhaozhang/Capstone/Model/Group6\n",
      "INFO:tensorflow:Assets written to: /home/jianhaozhang/Capstone/Model/Group6/assets\n",
      "Epoch 22/40\n",
      "106/106 [==============================] - 75s 709ms/step - loss: 0.7568 - categorical_accuracy: 0.7434 - val_loss: 1.1402 - val_categorical_accuracy: 0.6778\n",
      "\n",
      "Epoch 00022: val_loss improved from 1.14145 to 1.14025, saving model to /home/jianhaozhang/Capstone/Model/Group6\n",
      "INFO:tensorflow:Assets written to: /home/jianhaozhang/Capstone/Model/Group6/assets\n",
      "Epoch 23/40\n",
      "106/106 [==============================] - 75s 708ms/step - loss: 0.7527 - categorical_accuracy: 0.7465 - val_loss: 1.1332 - val_categorical_accuracy: 0.6763\n"
     ]
    },
    {
     "name": "stdout",
     "output_type": "stream",
     "text": [
      "\n",
      "Epoch 00023: val_loss improved from 1.14025 to 1.13321, saving model to /home/jianhaozhang/Capstone/Model/Group6\n",
      "INFO:tensorflow:Assets written to: /home/jianhaozhang/Capstone/Model/Group6/assets\n",
      "Epoch 24/40\n",
      "106/106 [==============================] - 75s 708ms/step - loss: 0.7381 - categorical_accuracy: 0.7515 - val_loss: 1.1277 - val_categorical_accuracy: 0.6763\n",
      "\n",
      "Epoch 00024: val_loss improved from 1.13321 to 1.12772, saving model to /home/jianhaozhang/Capstone/Model/Group6\n",
      "INFO:tensorflow:Assets written to: /home/jianhaozhang/Capstone/Model/Group6/assets\n",
      "Epoch 25/40\n",
      "106/106 [==============================] - 75s 708ms/step - loss: 0.7254 - categorical_accuracy: 0.7560 - val_loss: 1.1206 - val_categorical_accuracy: 0.6756\n",
      "\n",
      "Epoch 00025: val_loss improved from 1.12772 to 1.12056, saving model to /home/jianhaozhang/Capstone/Model/Group6\n",
      "INFO:tensorflow:Assets written to: /home/jianhaozhang/Capstone/Model/Group6/assets\n",
      "Epoch 26/40\n",
      "106/106 [==============================] - 75s 709ms/step - loss: 0.7153 - categorical_accuracy: 0.7572 - val_loss: 1.1211 - val_categorical_accuracy: 0.6742\n",
      "\n",
      "Epoch 00026: val_loss did not improve from 1.12056\n",
      "Epoch 27/40\n",
      "106/106 [==============================] - 75s 709ms/step - loss: 0.7117 - categorical_accuracy: 0.7565 - val_loss: 1.1182 - val_categorical_accuracy: 0.6771\n",
      "\n",
      "Epoch 00027: val_loss improved from 1.12056 to 1.11816, saving model to /home/jianhaozhang/Capstone/Model/Group6\n",
      "INFO:tensorflow:Assets written to: /home/jianhaozhang/Capstone/Model/Group6/assets\n",
      "Epoch 28/40\n",
      "106/106 [==============================] - 75s 708ms/step - loss: 0.7100 - categorical_accuracy: 0.7621 - val_loss: 1.1168 - val_categorical_accuracy: 0.6749\n",
      "\n",
      "Epoch 00028: val_loss improved from 1.11816 to 1.11677, saving model to /home/jianhaozhang/Capstone/Model/Group6\n",
      "INFO:tensorflow:Assets written to: /home/jianhaozhang/Capstone/Model/Group6/assets\n",
      "Epoch 29/40\n",
      "106/106 [==============================] - 75s 709ms/step - loss: 0.6934 - categorical_accuracy: 0.7702 - val_loss: 1.1152 - val_categorical_accuracy: 0.6778\n",
      "\n",
      "Epoch 00029: val_loss improved from 1.11677 to 1.11525, saving model to /home/jianhaozhang/Capstone/Model/Group6\n",
      "INFO:tensorflow:Assets written to: /home/jianhaozhang/Capstone/Model/Group6/assets\n",
      "Epoch 30/40\n",
      "106/106 [==============================] - 75s 709ms/step - loss: 0.6774 - categorical_accuracy: 0.7717 - val_loss: 1.1157 - val_categorical_accuracy: 0.6771\n",
      "\n",
      "Epoch 00030: val_loss did not improve from 1.11525\n",
      "Epoch 31/40\n",
      "106/106 [==============================] - 75s 709ms/step - loss: 0.6795 - categorical_accuracy: 0.7691 - val_loss: 1.1157 - val_categorical_accuracy: 0.6771\n",
      "\n",
      "Epoch 00031: val_loss did not improve from 1.11525\n",
      "Epoch 32/40\n",
      "106/106 [==============================] - 75s 709ms/step - loss: 0.6770 - categorical_accuracy: 0.7675 - val_loss: 1.1161 - val_categorical_accuracy: 0.6763\n",
      "\n",
      "Epoch 00032: val_loss did not improve from 1.11525\n",
      "Epoch 33/40\n",
      "106/106 [==============================] - 75s 709ms/step - loss: 0.6658 - categorical_accuracy: 0.7739 - val_loss: 1.1162 - val_categorical_accuracy: 0.6749\n",
      "\n",
      "Epoch 00033: val_loss did not improve from 1.11525\n",
      "Epoch 34/40\n",
      "106/106 [==============================] - 75s 708ms/step - loss: 0.6575 - categorical_accuracy: 0.7789 - val_loss: 1.1183 - val_categorical_accuracy: 0.6707\n",
      "\n",
      "Epoch 00034: val_loss did not improve from 1.11525\n",
      "Restoring model weights from the end of the best epoch.\n",
      "Epoch 00034: early stopping\n"
     ]
    }
   ],
   "source": [
    "checkpoint_filepath = '/home/jianhaozhang/Capstone/Model/Group6'\n",
    "model_checkpoint_callback = tf.keras.callbacks.ModelCheckpoint(\n",
    "    filepath=checkpoint_filepath,\n",
    "    save_weights_only=False,\n",
    "    verbose=1,\n",
    "    monitor='val_loss',\n",
    "    mode='min',\n",
    "    save_best_only=True)\n",
    "\n",
    "history6 = model6.fit(train_data6, epochs=epochs,batch_size=batch_size,validation_data=val_data6,shuffle=True,\n",
    "                   callbacks=[model_checkpoint_callback,model_earlystop_callback])"
   ]
  },
  {
   "cell_type": "code",
   "execution_count": 78,
   "id": "cordless-scale",
   "metadata": {},
   "outputs": [
    {
     "data": {
      "image/png": "[encoded data removed]",
      "text/plain": [
       "<Figure size 1440x576 with 2 Axes>"
      ]
     },
     "metadata": {
      "needs_background": "light"
     },
     "output_type": "display_data"
    }
   ],
   "source": [
    "draw_learning_curve(history6,checkpoint_filepath)"
   ]
  },
  {
   "cell_type": "code",
   "execution_count": 79,
   "id": "advanced-miniature",
   "metadata": {},
   "outputs": [
    {
     "name": "stdout",
     "output_type": "stream",
     "text": [
      "106/106 [==============================] - 22s 209ms/step - loss: 0.7164 - categorical_accuracy: 0.7609\n",
      "12/12 [==============================] - 2s 195ms/step - loss: 1.1152 - categorical_accuracy: 0.6778\n",
      "21/21 [==============================] - 75s 3s/step - loss: 0.8364 - categorical_accuracy: 0.7138\n"
     ]
    }
   ],
   "source": [
    "#model 6 summarized results\n",
    "train_loss6, train_acc6 = model6.evaluate(train_data6)\n",
    "val_loss6, val_acc6 = model6.evaluate(val_data6)\n",
    "test_loss6, test_acc6 = model6.evaluate(test_data6)\n",
    "\n",
    "Model6 = \"Group6\"\n",
    "row6 = [Model6, train_loss6, train_acc6*100,val_loss6,val_acc6*100,test_loss6, test_acc6*100]\n",
    "results = results.append(pd.DataFrame([row6], columns=results.columns), ignore_index=True)"
   ]
  },
  {
   "cell_type": "markdown",
   "id": "norwegian-reform",
   "metadata": {},
   "source": [
    "# 8. Evaluate model on the entire dataset"
   ]
  },
  {
   "cell_type": "markdown",
   "id": "secondary-sally",
   "metadata": {},
   "source": [
    "## Refine data preprocessing "
   ]
  },
  {
   "cell_type": "code",
   "execution_count": 16,
   "id": "progressive-pennsylvania",
   "metadata": {},
   "outputs": [],
   "source": [
    "def label_encoding(data):\n",
    "    num_class = len(pd.unique(data.Label))\n",
    "    \n",
    "    #label encoder\n",
    "    label_encoder = LabelEncoder()\n",
    "    data_encoded = label_encoder.fit_transform(np.ravel(data.Label, order='C'))\n",
    "\n",
    "    #convert to class vector\n",
    "    data_label_vec=keras.utils.to_categorical(data_encoded,num_class)\n",
    "    \n",
    "    data['label_encode']=list(data_encoded)\n",
    "    data['label_vec']=list(data_label_vec)\n",
    "    \n",
    "    \n",
    "    return data"
   ]
  },
  {
   "cell_type": "code",
   "execution_count": 17,
   "id": "governing-impression",
   "metadata": {},
   "outputs": [],
   "source": [
    "def normalize(data):\n",
    "    \n",
    "    sc=StandardScaler()\n",
    "    data[['x','y','speed','area']]=sc.fit_transform(data[['x','y','speed','area']])\n",
    "    \n",
    "    \n",
    "    return data"
   ]
  },
  {
   "cell_type": "code",
   "execution_count": 18,
   "id": "adapted-exception",
   "metadata": {},
   "outputs": [],
   "source": [
    "def preprocessing(data):\n",
    "\n",
    "    data=label_encoding(data)\n",
    "    data=normalize(data)\n",
    "    \n",
    "    return data"
   ]
  },
  {
   "cell_type": "code",
   "execution_count": 19,
   "id": "other-antarctica",
   "metadata": {},
   "outputs": [],
   "source": [
    "def data_generator(data):   \n",
    "    test_data=batch_processing(data)\n",
    "    \n",
    "    return test_data"
   ]
  },
  {
   "cell_type": "markdown",
   "id": "incorrect-gender",
   "metadata": {},
   "source": [
    "## Group1 "
   ]
  },
  {
   "cell_type": "code",
   "execution_count": 27,
   "id": "particular-protocol",
   "metadata": {},
   "outputs": [],
   "source": [
    "model1=keras.models.load_model('/home/jianhaozhang/Capstone/Model/Group1')\n",
    "pre_group1=preprocessing(group1)\n",
    "y_true1=list(pre_group1.label_encode)\n",
    "test1=data_generator(pre_group1)"
   ]
  },
  {
   "cell_type": "code",
   "execution_count": 28,
   "id": "angry-amateur",
   "metadata": {},
   "outputs": [],
   "source": [
    "axis_label1=['Flying','Non-Flying']"
   ]
  },
  {
   "cell_type": "code",
   "execution_count": 29,
   "id": "grateful-theorem",
   "metadata": {},
   "outputs": [],
   "source": [
    "y_pred1=model1.predict(test1)"
   ]
  },
  {
   "cell_type": "code",
   "execution_count": 30,
   "id": "pressed-stuart",
   "metadata": {},
   "outputs": [],
   "source": [
    "y_pred1_label=np.argmax(y_pred1, axis=1)"
   ]
  },
  {
   "cell_type": "code",
   "execution_count": 34,
   "id": "million-mileage",
   "metadata": {},
   "outputs": [
    {
     "data": {
      "image/png": "[encoded data removed]",
      "text/plain": [
       "<Figure size 720x576 with 2 Axes>"
      ]
     },
     "metadata": {
      "needs_background": "light"
     },
     "output_type": "display_data"
    }
   ],
   "source": [
    "cm1=confusion_matrix(y_true1,y_pred1_label)\n",
    "fig, ax = plt.subplots(figsize=(10,8))\n",
    "sns.heatmap(cm1,annot_kws={\"size\": 12},annot=True,fmt='.0f',xticklabels=axis_label1, yticklabels=axis_label1)\n",
    "plt.xlabel('Predicted labels')\n",
    "plt.ylabel('True labels')\n",
    "plt.savefig('/home/jianhaozhang/Capstone/Model/Group1/Confusion_Matrix1.png')"
   ]
  },
  {
   "cell_type": "code",
   "execution_count": 58,
   "id": "valid-warrior",
   "metadata": {},
   "outputs": [
    {
     "name": "stdout",
     "output_type": "stream",
     "text": [
      "              precision    recall  f1-score   support\n",
      "\n",
      "           0       1.00      0.84      0.91     70379\n",
      "           1       0.23      0.95      0.38      3632\n",
      "\n",
      "    accuracy                           0.85     74011\n",
      "   macro avg       0.62      0.89      0.64     74011\n",
      "weighted avg       0.96      0.85      0.89     74011\n",
      "\n"
     ]
    }
   ],
   "source": [
    "print(classification_report(y_true1,y_pred1_label))"
   ]
  },
  {
   "cell_type": "markdown",
   "id": "framed-enzyme",
   "metadata": {},
   "source": [
    "## Group2 "
   ]
  },
  {
   "cell_type": "code",
   "execution_count": 32,
   "id": "posted-expansion",
   "metadata": {},
   "outputs": [],
   "source": [
    "model2=keras.models.load_model('/home/jianhaozhang/Capstone/Model/Group2')\n",
    "pre_group2=preprocessing(group2)\n",
    "y_true2=list(pre_group2.label_encode)\n",
    "test2=data_generator(pre_group2)"
   ]
  },
  {
   "cell_type": "code",
   "execution_count": 35,
   "id": "olive-chile",
   "metadata": {},
   "outputs": [],
   "source": [
    "y_pred2=model2.predict(test2)"
   ]
  },
  {
   "cell_type": "code",
   "execution_count": 36,
   "id": "geological-martin",
   "metadata": {},
   "outputs": [],
   "source": [
    "y_pred2_label=np.argmax(y_pred2, axis=1)"
   ]
  },
  {
   "cell_type": "code",
   "execution_count": 37,
   "id": "governing-culture",
   "metadata": {},
   "outputs": [
    {
     "data": {
      "image/png": "[encoded data removed]",
      "text/plain": [
       "<Figure size 720x576 with 2 Axes>"
      ]
     },
     "metadata": {
      "needs_background": "light"
     },
     "output_type": "display_data"
    }
   ],
   "source": [
    "axis_label2=['No Panel','Panel']\n",
    "\n",
    "cm2=confusion_matrix(y_true2,y_pred2_label)\n",
    "fig, ax = plt.subplots(figsize=(10,8))\n",
    "sns.heatmap(cm2,annot_kws={\"size\": 12},annot=True,fmt='.0f',xticklabels=axis_label2, yticklabels=axis_label2)\n",
    "plt.xlabel('Predicted labels')\n",
    "plt.ylabel('True labels')\n",
    "plt.savefig('/home/jianhaozhang/Capstone/Model/Group2/Confusion_Matrix2.png')"
   ]
  },
  {
   "cell_type": "code",
   "execution_count": 81,
   "id": "latest-mills",
   "metadata": {},
   "outputs": [
    {
     "name": "stdout",
     "output_type": "stream",
     "text": [
      "              precision    recall  f1-score   support\n",
      "\n",
      "           0       0.99      0.84      0.91     50432\n",
      "           1       0.75      0.99      0.85     23579\n",
      "\n",
      "    accuracy                           0.89     74011\n",
      "   macro avg       0.87      0.92      0.88     74011\n",
      "weighted avg       0.92      0.89      0.89     74011\n",
      "\n"
     ]
    }
   ],
   "source": [
    "print(classification_report(y_true2,y_pred2_label))"
   ]
  },
  {
   "cell_type": "markdown",
   "id": "discrete-hawaii",
   "metadata": {},
   "source": [
    "## Group3 "
   ]
  },
  {
   "cell_type": "code",
   "execution_count": 38,
   "id": "elder-small",
   "metadata": {},
   "outputs": [],
   "source": [
    "model3=keras.models.load_model('/home/jianhaozhang/Capstone/Model/Group3')\n",
    "pre_group3=preprocessing(group3)\n",
    "y_true3=list(pre_group3.label_encode)\n",
    "test3=data_generator(pre_group3)"
   ]
  },
  {
   "cell_type": "code",
   "execution_count": 39,
   "id": "disciplinary-selection",
   "metadata": {},
   "outputs": [],
   "source": [
    "y_pred3=model3.predict(test3)"
   ]
  },
  {
   "cell_type": "code",
   "execution_count": 40,
   "id": "inappropriate-particle",
   "metadata": {},
   "outputs": [],
   "source": [
    "y_pred3_label=np.argmax(y_pred3, axis=1)"
   ]
  },
  {
   "cell_type": "code",
   "execution_count": 43,
   "id": "gentle-trademark",
   "metadata": {},
   "outputs": [
    {
     "data": {
      "image/png": "[encoded data removed]",
      "text/plain": [
       "<Figure size 720x576 with 2 Axes>"
      ]
     },
     "metadata": {
      "needs_background": "light"
     },
     "output_type": "display_data"
    }
   ],
   "source": [
    "axis_label3=['Background','Ground','Panel']\n",
    "\n",
    "cm3=confusion_matrix(y_true3,y_pred3_label)\n",
    "fig, ax = plt.subplots(figsize=(10,8))\n",
    "sns.heatmap(cm3,annot_kws={\"size\": 12},annot=True,fmt='.0f',xticklabels=axis_label3, yticklabels=axis_label3)\n",
    "plt.xlabel('Predicted labels')\n",
    "plt.ylabel('True labels')\n",
    "plt.savefig('/home/jianhaozhang/Capstone/Model/Group3/Confusion_Matrix3.png')"
   ]
  },
  {
   "cell_type": "code",
   "execution_count": 47,
   "id": "smart-newsletter",
   "metadata": {},
   "outputs": [
    {
     "name": "stdout",
     "output_type": "stream",
     "text": [
      "              precision    recall  f1-score   support\n",
      "\n",
      "           0       0.99      0.95      0.97     47501\n",
      "           1       0.55      0.99      0.71      2931\n",
      "           2       0.93      0.92      0.92     23579\n",
      "\n",
      "    accuracy                           0.94     74011\n",
      "   macro avg       0.82      0.95      0.87     74011\n",
      "weighted avg       0.95      0.94      0.94     74011\n",
      "\n"
     ]
    }
   ],
   "source": [
    "print(classification_report(y_true3,y_pred3_label))"
   ]
  },
  {
   "cell_type": "markdown",
   "id": "acute-secretariat",
   "metadata": {},
   "source": [
    "## Group4 "
   ]
  },
  {
   "cell_type": "code",
   "execution_count": 44,
   "id": "curious-thirty",
   "metadata": {},
   "outputs": [],
   "source": [
    "model4=keras.models.load_model('/home/jianhaozhang/Capstone/Model/Group4')\n",
    "pre_group4=preprocessing(group4)\n",
    "y_true4=list(pre_group4.label_encode)\n",
    "test4=data_generator(pre_group4)"
   ]
  },
  {
   "cell_type": "code",
   "execution_count": 45,
   "id": "fitting-advisory",
   "metadata": {},
   "outputs": [],
   "source": [
    "y_pred4=model4.predict(test4)"
   ]
  },
  {
   "cell_type": "code",
   "execution_count": 46,
   "id": "eligible-procurement",
   "metadata": {},
   "outputs": [],
   "source": [
    "y_pred4_label=np.argmax(y_pred4, axis=1)"
   ]
  },
  {
   "cell_type": "code",
   "execution_count": 48,
   "id": "average-canadian",
   "metadata": {},
   "outputs": [
    {
     "data": {
      "image/png": "[encoded data removed]",
      "text/plain": [
       "<Figure size 720x576 with 2 Axes>"
      ]
     },
     "metadata": {
      "needs_background": "light"
     },
     "output_type": "display_data"
    }
   ],
   "source": [
    "axis_label4=['Background','Flying Panel','Ground','Interact Panel']\n",
    "\n",
    "cm4=confusion_matrix(y_true4,y_pred4_label)\n",
    "fig, ax = plt.subplots(figsize=(10,8))\n",
    "sns.heatmap(cm4,annot_kws={\"size\": 12},annot=True,fmt='.0f',xticklabels=axis_label4, yticklabels=axis_label4)\n",
    "plt.xlabel('Predicted labels')\n",
    "plt.ylabel('True labels')\n",
    "plt.savefig('/home/jianhaozhang/Capstone/Model/Group4/Confusion_Matrix4.png')"
   ]
  },
  {
   "cell_type": "code",
   "execution_count": 54,
   "id": "roman-watershed",
   "metadata": {},
   "outputs": [
    {
     "name": "stdout",
     "output_type": "stream",
     "text": [
      "              precision    recall  f1-score   support\n",
      "\n",
      "           0       0.98      0.95      0.96     47501\n",
      "           1       0.91      0.65      0.76     19987\n",
      "           2       0.62      0.96      0.75      2931\n",
      "           3       0.33      0.85      0.48      3592\n",
      "\n",
      "    accuracy                           0.87     74011\n",
      "   macro avg       0.71      0.85      0.74     74011\n",
      "weighted avg       0.92      0.87      0.88     74011\n",
      "\n"
     ]
    }
   ],
   "source": [
    "print(classification_report(y_true4,y_pred4_label))"
   ]
  },
  {
   "cell_type": "markdown",
   "id": "naked-glucose",
   "metadata": {},
   "source": [
    "## Full Label"
   ]
  },
  {
   "cell_type": "code",
   "execution_count": 32,
   "id": "described-contractor",
   "metadata": {},
   "outputs": [],
   "source": [
    "model6=keras.models.load_model('/home/jianhaozhang/Capstone/Model/Group6')\n",
    "pre_group6=preprocessing(group6)\n",
    "y_true6=list(pre_group6.label_encode)\n",
    "test6=data_generator(pre_group6)"
   ]
  },
  {
   "cell_type": "code",
   "execution_count": 50,
   "id": "descending-brick",
   "metadata": {},
   "outputs": [],
   "source": [
    "y_pred6=model6.predict(test6)"
   ]
  },
  {
   "cell_type": "code",
   "execution_count": 51,
   "id": "sophisticated-timing",
   "metadata": {},
   "outputs": [],
   "source": [
    "y_pred6_label=np.argmax(y_pred6, axis=1)"
   ]
  },
  {
   "cell_type": "code",
   "execution_count": 52,
   "id": "positive-brook",
   "metadata": {},
   "outputs": [
    {
     "data": {
      "text/html": [
       "<div>\n",
       "<style scoped>\n",
       "    .dataframe tbody tr th:only-of-type {\n",
       "        vertical-align: middle;\n",
       "    }\n",
       "\n",
       "    .dataframe tbody tr th {\n",
       "        vertical-align: top;\n",
       "    }\n",
       "\n",
       "    .dataframe thead th {\n",
       "        text-align: right;\n",
       "    }\n",
       "</style>\n",
       "<table border=\"1\" class=\"dataframe\">\n",
       "  <thead>\n",
       "    <tr style=\"text-align: right;\">\n",
       "      <th></th>\n",
       "      <th></th>\n",
       "    </tr>\n",
       "    <tr>\n",
       "      <th>Label</th>\n",
       "      <th>label_encode</th>\n",
       "    </tr>\n",
       "  </thead>\n",
       "  <tbody>\n",
       "    <tr>\n",
       "      <th>Flying over other backgrounds</th>\n",
       "      <th>0</th>\n",
       "    </tr>\n",
       "    <tr>\n",
       "      <th>Flying over reflection</th>\n",
       "      <th>1</th>\n",
       "    </tr>\n",
       "    <tr>\n",
       "      <th>Flying over sky</th>\n",
       "      <th>2</th>\n",
       "    </tr>\n",
       "    <tr>\n",
       "      <th>Flying under solar panel</th>\n",
       "      <th>3</th>\n",
       "    </tr>\n",
       "    <tr>\n",
       "      <th>Flying with ground</th>\n",
       "      <th>4</th>\n",
       "    </tr>\n",
       "    <tr>\n",
       "      <th>Flying with solar panel</th>\n",
       "      <th>5</th>\n",
       "    </tr>\n",
       "    <tr>\n",
       "      <th>Sit in background</th>\n",
       "      <th>6</th>\n",
       "    </tr>\n",
       "    <tr>\n",
       "      <th>Sit on panel</th>\n",
       "      <th>7</th>\n",
       "    </tr>\n",
       "    <tr>\n",
       "      <th>Sit on the ground</th>\n",
       "      <th>8</th>\n",
       "    </tr>\n",
       "  </tbody>\n",
       "</table>\n",
       "</div>"
      ],
      "text/plain": [
       "Empty DataFrame\n",
       "Columns: []\n",
       "Index: [(Flying over other backgrounds, 0), (Flying over reflection, 1), (Flying over sky, 2), (Flying under solar panel, 3), (Flying with ground, 4), (Flying with solar panel, 5), (Sit in background, 6), (Sit on panel, 7), (Sit on the ground, 8)]"
      ]
     },
     "execution_count": 52,
     "metadata": {},
     "output_type": "execute_result"
    }
   ],
   "source": [
    "pre_group6[['Label','label_encode']].groupby(['Label','label_encode']).count()"
   ]
  },
  {
   "cell_type": "code",
   "execution_count": 54,
   "id": "elegant-antibody",
   "metadata": {},
   "outputs": [
    {
     "data": {
      "image/png": "[encoded data removed]",
      "text/plain": [
       "<Figure size 720x576 with 2 Axes>"
      ]
     },
     "metadata": {
      "needs_background": "light"
     },
     "output_type": "display_data"
    }
   ],
   "source": [
    "axis_label6=['Fly over other backgrounds','Fly over reflection','Fly over sky','Fly under solar panel'\n",
    "            ,'Fly with ground','Fly with solar panel','Sit in background','Sit on panel','Sit on the ground']\n",
    "\n",
    "cm6=confusion_matrix(y_true6,y_pred6_label)\n",
    "fig, ax = plt.subplots(figsize=(10,8))\n",
    "sns.heatmap(cm6,annot_kws={\"size\": 12},annot=True,fmt='.0f',xticklabels=axis_label6, yticklabels=axis_label6)\n",
    "plt.xlabel('Predicted labels')\n",
    "plt.ylabel('True labels')\n",
    "plt.savefig('/home/jianhaozhang/Capstone/Model/Group6/Confusion_Matrix6.png')"
   ]
  },
  {
   "cell_type": "code",
   "execution_count": 55,
   "id": "becoming-fight",
   "metadata": {},
   "outputs": [
    {
     "name": "stdout",
     "output_type": "stream",
     "text": [
      "              precision    recall  f1-score   support\n",
      "\n",
      "           0       0.73      0.66      0.69     12382\n",
      "           1       0.84      0.87      0.85      9538\n",
      "           2       0.96      0.82      0.88     34080\n",
      "           3       0.36      0.74      0.48      1389\n",
      "           4       0.63      0.89      0.74      2541\n",
      "           5       0.77      0.45      0.57     10449\n",
      "           6       0.14      0.74      0.24      1039\n",
      "           7       0.34      0.88      0.49      2203\n",
      "           8       0.86      0.17      0.29       390\n",
      "\n",
      "    accuracy                           0.75     74011\n",
      "   macro avg       0.63      0.69      0.58     74011\n",
      "weighted avg       0.83      0.75      0.77     74011\n",
      "\n"
     ]
    }
   ],
   "source": [
    "print(classification_report(y_true6,y_pred6_label))"
   ]
  },
  {
   "cell_type": "markdown",
   "id": "comparative-mortgage",
   "metadata": {},
   "source": [
    "# 8. Unique label count and proportion in a track "
   ]
  },
  {
   "cell_type": "code",
   "execution_count": 27,
   "id": "distinguished-monday",
   "metadata": {},
   "outputs": [],
   "source": [
    "def prediction(data,model):\n",
    "    full_label_test=preprocessing(data)[1]\n",
    "    #Batch testing data\n",
    "    test_data=data_generator(data)[1]\n",
    "    \n",
    "    #prediction\n",
    "    y_pred=model.predict(test_data)\n",
    "    y_pred=np.argmax(y_pred, axis=1)\n",
    "    full_label_test['predicted_label']=list(y_pred)\n",
    "    \n",
    "    return full_label_test"
   ]
  },
  {
   "cell_type": "code",
   "execution_count": 28,
   "id": "obvious-remains",
   "metadata": {},
   "outputs": [],
   "source": [
    "#reverse the label enconding\n",
    "def reverse_le(data):\n",
    "    dic={}\n",
    "    unique_label=data[['Label','label_encode']].groupby(['Label','label_encode']).count().reset_index()\n",
    "    unique_label_num=list(unique_label.label_encode)\n",
    "    unique_label_cat=list(unique_label.Label)\n",
    "    \n",
    "    for i in range(len(unique_label_num)):\n",
    "        dic[unique_label_num[i]]=unique_label_cat[i]\n",
    "    \n",
    "    data['predicted_label']=data['predicted_label'].map(lambda x: dic[x])\n",
    "    \n",
    "    return data"
   ]
  },
  {
   "cell_type": "code",
   "execution_count": 29,
   "id": "moderate-geography",
   "metadata": {},
   "outputs": [],
   "source": [
    "# return track unique label count and proportion\n",
    "def label_cnt_prop(data):\n",
    "    summary=data.groupby(['obj_id','predicted_label']).size().reset_index(name='count')\n",
    "    summary['%'] = round(100 * summary['count'] / summary.groupby('obj_id')['count'].transform('sum'),2)\n",
    "    \n",
    "    return summary"
   ]
  },
  {
   "cell_type": "code",
   "execution_count": 30,
   "id": "indie-cricket",
   "metadata": {},
   "outputs": [],
   "source": [
    "# put everything together\n",
    "def label_prediction_summary(data,model):\n",
    "    summary=prediction(data,model)\n",
    "    summary=reverse_le(summary)\n",
    "    summary=label_cnt_prop(summary)\n",
    "    \n",
    "    return summary"
   ]
  },
  {
   "cell_type": "code",
   "execution_count": 56,
   "id": "approximate-forwarding",
   "metadata": {},
   "outputs": [
    {
     "data": {
      "text/html": [
       "<div>\n",
       "<style scoped>\n",
       "    .dataframe tbody tr th:only-of-type {\n",
       "        vertical-align: middle;\n",
       "    }\n",
       "\n",
       "    .dataframe tbody tr th {\n",
       "        vertical-align: top;\n",
       "    }\n",
       "\n",
       "    .dataframe thead th {\n",
       "        text-align: right;\n",
       "    }\n",
       "</style>\n",
       "<table border=\"1\" class=\"dataframe\">\n",
       "  <thead>\n",
       "    <tr style=\"text-align: right;\">\n",
       "      <th></th>\n",
       "      <th>obj_id</th>\n",
       "      <th>predicted_label</th>\n",
       "      <th>count</th>\n",
       "      <th>%</th>\n",
       "    </tr>\n",
       "  </thead>\n",
       "  <tbody>\n",
       "    <tr>\n",
       "      <th>0</th>\n",
       "      <td>155</td>\n",
       "      <td>Flying over reflection</td>\n",
       "      <td>3</td>\n",
       "      <td>100.00</td>\n",
       "    </tr>\n",
       "    <tr>\n",
       "      <th>1</th>\n",
       "      <td>182</td>\n",
       "      <td>Sit in background</td>\n",
       "      <td>3</td>\n",
       "      <td>100.00</td>\n",
       "    </tr>\n",
       "    <tr>\n",
       "      <th>2</th>\n",
       "      <td>187</td>\n",
       "      <td>Flying over other backgrounds</td>\n",
       "      <td>2</td>\n",
       "      <td>33.33</td>\n",
       "    </tr>\n",
       "    <tr>\n",
       "      <th>3</th>\n",
       "      <td>187</td>\n",
       "      <td>Flying with solar panel</td>\n",
       "      <td>3</td>\n",
       "      <td>50.00</td>\n",
       "    </tr>\n",
       "    <tr>\n",
       "      <th>4</th>\n",
       "      <td>187</td>\n",
       "      <td>Sit on panel</td>\n",
       "      <td>1</td>\n",
       "      <td>16.67</td>\n",
       "    </tr>\n",
       "    <tr>\n",
       "      <th>...</th>\n",
       "      <td>...</td>\n",
       "      <td>...</td>\n",
       "      <td>...</td>\n",
       "      <td>...</td>\n",
       "    </tr>\n",
       "    <tr>\n",
       "      <th>607</th>\n",
       "      <td>48647</td>\n",
       "      <td>Flying over sky</td>\n",
       "      <td>2</td>\n",
       "      <td>100.00</td>\n",
       "    </tr>\n",
       "    <tr>\n",
       "      <th>608</th>\n",
       "      <td>48724</td>\n",
       "      <td>Flying over sky</td>\n",
       "      <td>1</td>\n",
       "      <td>100.00</td>\n",
       "    </tr>\n",
       "    <tr>\n",
       "      <th>609</th>\n",
       "      <td>48820</td>\n",
       "      <td>Flying over other backgrounds</td>\n",
       "      <td>13</td>\n",
       "      <td>76.47</td>\n",
       "    </tr>\n",
       "    <tr>\n",
       "      <th>610</th>\n",
       "      <td>48820</td>\n",
       "      <td>Flying over sky</td>\n",
       "      <td>4</td>\n",
       "      <td>23.53</td>\n",
       "    </tr>\n",
       "    <tr>\n",
       "      <th>611</th>\n",
       "      <td>49065</td>\n",
       "      <td>Flying over sky</td>\n",
       "      <td>14</td>\n",
       "      <td>100.00</td>\n",
       "    </tr>\n",
       "  </tbody>\n",
       "</table>\n",
       "<p>612 rows × 4 columns</p>\n",
       "</div>"
      ],
      "text/plain": [
       "     obj_id                predicted_label  count       %\n",
       "0       155         Flying over reflection      3  100.00\n",
       "1       182              Sit in background      3  100.00\n",
       "2       187  Flying over other backgrounds      2   33.33\n",
       "3       187        Flying with solar panel      3   50.00\n",
       "4       187                   Sit on panel      1   16.67\n",
       "..      ...                            ...    ...     ...\n",
       "607   48647                Flying over sky      2  100.00\n",
       "608   48724                Flying over sky      1  100.00\n",
       "609   48820  Flying over other backgrounds     13   76.47\n",
       "610   48820                Flying over sky      4   23.53\n",
       "611   49065                Flying over sky     14  100.00\n",
       "\n",
       "[612 rows x 4 columns]"
      ]
     },
     "execution_count": 56,
     "metadata": {},
     "output_type": "execute_result"
    }
   ],
   "source": [
    "label_prediction_summary(group6,model6)"
   ]
  }
 ],
 "metadata": {
  "celltoolbar": "原始单元格格式",
  "kernelspec": {
   "display_name": "Python 3",
   "language": "python",
   "name": "python3"
  },
  "language_info": {
   "codemirror_mode": {
    "name": "ipython",
    "version": 3
   },
   "file_extension": ".py",
   "mimetype": "text/x-python",
   "name": "python",
   "nbconvert_exporter": "python",
   "pygments_lexer": "ipython3",
   "version": "3.8.3"
  }
 },
 "nbformat": 4,
 "nbformat_minor": 5
}
